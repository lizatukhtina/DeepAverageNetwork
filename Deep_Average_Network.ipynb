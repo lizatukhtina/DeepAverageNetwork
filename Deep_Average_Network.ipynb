{
  "cells": [
    {
      "cell_type": "markdown",
      "source": [
        "# Required Imports"
      ],
      "metadata": {
        "id": "frVIGQFCj85Q"
      },
      "id": "frVIGQFCj85Q"
    },
    {
      "cell_type": "code",
      "source": [
        "! pip install datasets"
      ],
      "metadata": {
        "id": "3f9_6tkvgIDg"
      },
      "id": "3f9_6tkvgIDg",
      "execution_count": null,
      "outputs": []
    },
    {
      "cell_type": "code",
      "execution_count": 3,
      "metadata": {
        "id": "7f9c64fb"
      },
      "outputs": [],
      "source": [
        "from typing import Dict, List\n",
        "\n",
        "import matplotlib.pyplot as plt\n",
        "import numpy as np\n",
        "import pandas as pd\n",
        "import seaborn as sns\n",
        "import torch\n",
        "\n",
        "from datasets import load_dataset\n",
        "from nltk.tokenize import ToktokTokenizer\n",
        "from sklearn.metrics import f1_score, confusion_matrix, classification_report\n",
        "from torch import nn\n",
        "from torch.utils.data import DataLoader\n",
        "from tqdm.auto import tqdm\n",
        "from string import punctuation"
      ],
      "id": "7f9c64fb"
    },
    {
      "cell_type": "code",
      "source": [
        "device = torch.device(\"cuda\" if torch.cuda.is_available() else \"cpu\") "
      ],
      "metadata": {
        "id": "rO4Iw3_7wN4w"
      },
      "id": "rO4Iw3_7wN4w",
      "execution_count": 4,
      "outputs": []
    },
    {
      "cell_type": "markdown",
      "source": [
        "Загружаем FastText эмбеддинги для английского:\n"
      ],
      "metadata": {
        "id": "Slu354vxlJNA"
      },
      "id": "Slu354vxlJNA"
    },
    {
      "cell_type": "code",
      "execution_count": null,
      "metadata": {
        "id": "s1z17nD-h57p"
      },
      "outputs": [],
      "source": [
        "!wget https://dl.fbaipublicfiles.com/fasttext/vectors-wiki/wiki.en.vec"
      ],
      "id": "s1z17nD-h57p"
    },
    {
      "cell_type": "code",
      "execution_count": 6,
      "metadata": {
        "id": "cFsUYGKPivlg",
        "colab": {
          "base_uri": "https://localhost:8080/"
        },
        "outputId": "f5997499-fb46-4c7d-d43c-17bbba089172"
      },
      "outputs": [],
      "source": [
        "!tail -n 2 wiki.en.vec"
      ],
      "id": "cFsUYGKPivlg"
    },
    {
      "cell_type": "markdown",
      "metadata": {
        "id": "102d7074"
      },
      "source": [
        "# Описание задачи"
      ],
      "id": "102d7074"
    },
    {
      "cell_type": "markdown",
      "metadata": {
        "id": "46d972fe"
      },
      "source": [
        "Классификация твиттов по тональности\n",
        "<br>\n",
        "Классы:  \n",
        "\n",
        "Индекс | Sentiment  \n",
        "-- | --  \n",
        "0 | negative  \n",
        "1 | neutral  \n",
        "2 | positive  "
      ],
      "id": "46d972fe"
    },
    {
      "cell_type": "markdown",
      "source": [
        "# 1. Создание матрицы эмбеддингов"
      ],
      "metadata": {
        "id": "opgTM_iQmG0a"
      },
      "id": "opgTM_iQmG0a"
    },
    {
      "cell_type": "markdown",
      "source": [
        "Функция для представления эмбеддингов из *vec файла в формате матрицы с индексами токенов"
      ],
      "metadata": {
        "id": "G0uUsamjmYTb"
      },
      "id": "G0uUsamjmYTb"
    },
    {
      "cell_type": "code",
      "execution_count": 7,
      "metadata": {
        "id": "e15a9f7c"
      },
      "outputs": [],
      "source": [
        "def load_embeddings(path, num_tokens=100_000):\n",
        "    \"\"\" Представление эмбеддингов в формате матрицы \"\"\"\n",
        "\n",
        "    token2index = dict()\n",
        "    embeddings_matrix = list()\n",
        "\n",
        "    with open(path) as file_object:\n",
        "      vocab_size, embedding_dim = file_object.readline().strip().split()\n",
        "\n",
        "      vocab_size = int(vocab_size)\n",
        "      embedding_dim = int(embedding_dim)\n",
        "\n",
        "      num_tokens = vocab_size if num_tokens <= 0 else num_tokens\n",
        "\n",
        "      token2index['PAD'] = 0\n",
        "      embeddings_matrix.append(np.zeros(embedding_dim))\n",
        "\n",
        "      token2index['UNK'] = 1\n",
        "      embeddings_matrix.append(np.ones(embedding_dim))\n",
        "\n",
        "      for line in tqdm(file_object, total=num_tokens, desc='Loading Embeddings'):\n",
        "          parts = line.strip().split()\n",
        "          token = ' '.join(parts[:-embedding_dim]).lower()\n",
        "          if token in token2index:\n",
        "              continue\n",
        "          word_vector = np.array(list(map(float, parts[-embedding_dim:])))\n",
        "          token2index[token] = len(token2index)\n",
        "          embeddings_matrix.append(word_vector)\n",
        "          if len(token2index) == num_tokens:\n",
        "              break\n",
        "\n",
        "    embeddings_matrix: np.array = np.array(embeddings_matrix)\n",
        "    \n",
        "    assert(len(token2index) == embeddings_matrix.shape[0])\n",
        "    \n",
        "    return token2index, embeddings_matrix"
      ],
      "id": "e15a9f7c"
    },
    {
      "cell_type": "markdown",
      "source": [
        "Создаем словарь с индексами токенов и матрицу эмбеддингов"
      ],
      "metadata": {
        "id": "RAlTpVAvoFi0"
      },
      "id": "RAlTpVAvoFi0"
    },
    {
      "cell_type": "code",
      "execution_count": 8,
      "metadata": {
        "id": "h3bfCZTEjvNO",
        "colab": {
          "base_uri": "https://localhost:8080/",
          "height": 49,
          "referenced_widgets": [
            "df3d9f9a9bc94ed4848dc5671c07eb6f",
            "3c93603b9a9448fb80e08ab306fdad18",
            "c5fd37b28ed740f5a187f0effd323809",
            "054b1fedb50347998911c6a26db15d9d",
            "0e4022459f66449e869f2323009f3238",
            "82e02911e48d45bdbd4f1c670aa6ce19",
            "5961a895b4ae489da78954c127c3aa0c",
            "6af91c870b364c599212311e9837c680",
            "135ceb61701943159cb1e19242ff1644",
            "dd1efb26943844a58651e9f7ded94a96",
            "436004c497824840b2a6c88044679b64"
          ]
        },
        "outputId": "d1c8e99a-d62e-45fe-b5b2-7fb6e9683eed"
      },
      "outputs": [
        {
          "output_type": "display_data",
          "data": {
            "text/plain": [
              "Loading Embeddings:   0%|          | 0/100000 [00:00<?, ?it/s]"
            ],
            "application/vnd.jupyter.widget-view+json": {
              "version_major": 2,
              "version_minor": 0,
              "model_id": "df3d9f9a9bc94ed4848dc5671c07eb6f"
            }
          },
          "metadata": {}
        }
      ],
      "source": [
        "token2index, embeddings_matrix = load_embeddings('wiki.en.vec')"
      ],
      "id": "h3bfCZTEjvNO"
    },
    {
      "cell_type": "code",
      "source": [
        "token2index['hello'] # индекс для токена 'hello'"
      ],
      "metadata": {
        "colab": {
          "base_uri": "https://localhost:8080/"
        },
        "id": "P04Q5fei4nt_",
        "outputId": "d7b01a48-647e-4238-e750-53941af999ab"
      },
      "id": "P04Q5fei4nt_",
      "execution_count": 9,
      "outputs": [
        {
          "output_type": "execute_result",
          "data": {
            "text/plain": [
              "4857"
            ]
          },
          "metadata": {},
          "execution_count": 9
        }
      ]
    },
    {
      "cell_type": "markdown",
      "metadata": {
        "id": "c46b2b68"
      },
      "source": [
        "## 2. Загрузка данных для обучени, приведение в подходящий для Torch формат"
      ],
      "id": "c46b2b68"
    },
    {
      "cell_type": "markdown",
      "source": [
        "Загрузка датасета tweet_eval/sentiment с помощью функции load_dataset:"
      ],
      "metadata": {
        "id": "WmKFA5WmpyAA"
      },
      "id": "WmKFA5WmpyAA"
    },
    {
      "cell_type": "code",
      "execution_count": null,
      "metadata": {
        "id": "e54fdaa8"
      },
      "outputs": [],
      "source": [
        "dataset_path = \"tweet_eval\"\n",
        "dataset_name = \"sentiment\"\n",
        "\n",
        "train_dataset = load_dataset(path=dataset_path, name=dataset_name, split=\"train\")\n",
        "valid_dataset = load_dataset(path=dataset_path, name=dataset_name, split=\"validation\")\n",
        "test_dataset = load_dataset(path=dataset_path, name=dataset_name, split=\"test\")"
      ],
      "id": "e54fdaa8"
    },
    {
      "cell_type": "code",
      "execution_count": 11,
      "metadata": {
        "id": "a5wqiaAXxrVm"
      },
      "outputs": [],
      "source": [
        "tokenizer = ToktokTokenizer()"
      ],
      "id": "a5wqiaAXxrVm"
    },
    {
      "cell_type": "markdown",
      "source": [
        "Средняя длина текстов в тренировочном сете:"
      ],
      "metadata": {
        "id": "m77Wz6Urr6hN"
      },
      "id": "m77Wz6Urr6hN"
    },
    {
      "cell_type": "code",
      "execution_count": null,
      "metadata": {
        "id": "YHCzfn_WxkUa"
      },
      "outputs": [],
      "source": [
        "lengths = [len(tokenizer.tokenize(t['text'])) for t in tqdm(train_dataset)]"
      ],
      "id": "YHCzfn_WxkUa"
    },
    {
      "cell_type": "code",
      "execution_count": 13,
      "metadata": {
        "colab": {
          "base_uri": "https://localhost:8080/"
        },
        "id": "I7Y1wLjDyMZN",
        "outputId": "058664df-a20e-422c-d51d-a022e28cf38f"
      },
      "outputs": [
        {
          "output_type": "execute_result",
          "data": {
            "text/plain": [
              "34.0"
            ]
          },
          "metadata": {},
          "execution_count": 13
        }
      ],
      "source": [
        "np.percentile(lengths, 97) # 97% текстов не больше 34 токенов"
      ],
      "id": "I7Y1wLjDyMZN"
    },
    {
      "cell_type": "markdown",
      "source": [
        "Класс Tokenizer для представления текстов твиттов в формате тензоров с индеками токенов"
      ],
      "metadata": {
        "id": "bqLiLRous4wc"
      },
      "id": "bqLiLRous4wc"
    },
    {
      "cell_type": "code",
      "execution_count": 14,
      "metadata": {
        "id": "3b9ddcca"
      },
      "outputs": [],
      "source": [
        "class Tokenizer:\n",
        "    \n",
        "    def __init__(self, base_tokenizer, token2index, max_length=32):\n",
        "        \n",
        "        self._base_tokenizer = base_tokenizer\n",
        "        \n",
        "        self.token2index = token2index  # словарь из load_embeddings()\n",
        "        \n",
        "        self.pad_token = 'PAD'\n",
        "        self.pad_index = self.token2index[self.pad_token]\n",
        "        \n",
        "        self.unk_token = 'UNK'\n",
        "        self.unk_index = self.token2index[self.unk_token]\n",
        "        \n",
        "        self.max_length = max_length\n",
        "\n",
        "    def tokenize(self, text):\n",
        "\n",
        "        tokens = self._base_tokenizer.tokenize(text)\n",
        "        return tokens\n",
        "    \n",
        "    def indexing(self, tokenized_text):\n",
        "        \"\"\"\n",
        "        Tokens to indexes\n",
        "        \"\"\"\n",
        "        indexed_text = [token2index[t] if t in token2index else self.unk_index \n",
        "                        for t in tokenized_text]\n",
        "        return indexed_text\n",
        "        \n",
        "    def padding(self, tokens_indices):\n",
        "        \"\"\"\n",
        "        Adding pad tokens\n",
        "        \"\"\"\n",
        "        if len(tokens_indices) > self.max_length:\n",
        "          tokens_indices = tokens_indices[:self.max_length]\n",
        "        elif len(tokens_indices) < self.max_length:\n",
        "          padding_size = self.max_length - len(tokens_indices)\n",
        "          tokens_indices.extend([self.pad_index] * padding_size)\n",
        "\n",
        "        return tokens_indices\n",
        "    \n",
        "    def __call__(self, text):\n",
        "        return self.padding(self.indexing(self.tokenize(text)))\n",
        "        \n",
        "    def collate(self, batch):\n",
        "        \n",
        "        tokenized_texts = list()\n",
        "        labels = list()\n",
        "        \n",
        "        for sample in batch:\n",
        "            tokenized_texts.append(self(sample['text']))\n",
        "            labels.append(sample['label'])\n",
        "            \n",
        "        tokenized_texts = torch.LongTensor(tokenized_texts)\n",
        "        labels = torch.LongTensor(labels)\n",
        "        \n",
        "        return tokenized_texts, labels"
      ],
      "id": "3b9ddcca"
    },
    {
      "cell_type": "code",
      "execution_count": 33,
      "metadata": {
        "id": "zIza5dkatL4v"
      },
      "outputs": [],
      "source": [
        "tokenizer = Tokenizer(\n",
        "              base_tokenizer=ToktokTokenizer(),\n",
        "              token2index=token2index,\n",
        "              max_length=34\n",
        ")"
      ],
      "id": "zIza5dkatL4v"
    },
    {
      "cell_type": "code",
      "execution_count": 34,
      "metadata": {
        "id": "40268f8c"
      },
      "outputs": [],
      "source": [
        "train_loader = DataLoader(train_dataset, batch_size=128, shuffle=True, collate_fn=tokenizer.collate)\n",
        "valid_loader = DataLoader(valid_dataset, batch_size=128, shuffle=True, collate_fn=tokenizer.collate)\n",
        "test_loader = DataLoader(test_dataset, batch_size=128, shuffle=True, collate_fn=tokenizer.collate)"
      ],
      "id": "40268f8c"
    },
    {
      "cell_type": "code",
      "execution_count": 35,
      "metadata": {
        "id": "d293b759"
      },
      "outputs": [],
      "source": [
        "for x, y in train_loader:\n",
        "    break"
      ],
      "id": "d293b759"
    },
    {
      "cell_type": "markdown",
      "source": [
        "Проверка"
      ],
      "metadata": {
        "id": "se8hwbREtU6G"
      },
      "id": "se8hwbREtU6G"
    },
    {
      "cell_type": "code",
      "execution_count": 36,
      "metadata": {
        "id": "87752ad7"
      },
      "outputs": [],
      "source": [
        "assert(isinstance(x, torch.Tensor))\n",
        "assert(len(x.size()) == 2)\n",
        "\n",
        "assert(isinstance(y, torch.Tensor))\n",
        "assert(len(y.size()) == 1)"
      ],
      "id": "87752ad7"
    },
    {
      "cell_type": "markdown",
      "source": [
        "# 4. Выбор метрики "
      ],
      "metadata": {
        "id": "aCOh5pSmv3Ut"
      },
      "id": "aCOh5pSmv3Ut"
    },
    {
      "cell_type": "markdown",
      "source": [
        "Метрика Accuracy не подойдет для данной задачи, т.к. классы несбалансированы:"
      ],
      "metadata": {
        "id": "K1fsAOYlv6Im"
      },
      "id": "K1fsAOYlv6Im"
    },
    {
      "cell_type": "code",
      "source": [
        "df = pd.DataFrame.from_records(train_dataset)\n",
        "df['label'].value_counts().plot(kind=\"bar\")\n",
        "plt.show()"
      ],
      "metadata": {
        "colab": {
          "base_uri": "https://localhost:8080/",
          "height": 262
        },
        "id": "sGAUxBXS-9Ye",
        "outputId": "4fcf6cd3-68c8-4b24-fb5f-1f5b74644f07"
      },
      "id": "sGAUxBXS-9Ye",
      "execution_count": 37,
      "outputs": [
        {
          "output_type": "display_data",
          "data": {
            "text/plain": [
              "<Figure size 432x288 with 1 Axes>"
            ],
            "image/png": "[encoded data removed]"
          },
          "metadata": {
            "needs_background": "light"
          }
        }
      ]
    },
    {
      "cell_type": "markdown",
      "source": [
        "Для данной задачи я выбрала метрику **macro-F1-score**. Эта метрика хорошо подходит для задач классификации с дисбалансом классов, где нам важно равносильно учитывать качество всех представленных классов. "
      ],
      "metadata": {
        "id": "BLouWHSp_Wrd"
      },
      "id": "BLouWHSp_Wrd"
    },
    {
      "cell_type": "markdown",
      "metadata": {
        "id": "dbc96104"
      },
      "source": [
        "# 5. Реализация модели Deep Average Network\n",
        "\n"
      ],
      "id": "dbc96104"
    },
    {
      "cell_type": "code",
      "source": [
        "class DeepAverageNetwork(nn.Module):\n",
        "    \"\"\"\n",
        "    Deep Average Network Class\n",
        "    \"\"\"\n",
        "    def __init__(self, embeddings_maxtrix, in_features=300, inner_features=300, out_features = 3):\n",
        "        \n",
        "        super().__init__()\n",
        "\n",
        "        self.embedding_layer = nn.Embedding(len(embeddings_maxtrix), \n",
        "                               embeddings_maxtrix.shape[-1]).from_pretrained(embeddings_maxtrix, freeze=False)\n",
        "        self.dropout1 = nn.Dropout(0.3)\n",
        "        self.linear1 = nn.Linear(in_features, inner_features)\n",
        "        #self.batch_norm = nn.BatchNorm1d(inner_features)\n",
        "        self.relu = nn.ReLU()\n",
        "        \n",
        "        # self.dropout2 = nn.Dropout(0.5)\n",
        "        self.linear2 = nn.Linear(inner_features, out_features)\n",
        "        self.batch_norm2 = nn.BatchNorm1d(out_features)\n",
        "        self.softmax = nn.Softmax(1)\n",
        "\n",
        "    def forward(self, x):\n",
        "        x = self.embedding_layer(x)\n",
        "        # рандомно отбрасываем эмбеддинги для 30% токенов перед усреднением\n",
        "        # если я правильно поняла, в статье про DAN использовался такой подход\n",
        "        x = self.dropout1(x) \n",
        "        x = torch.mean(x, dim=1).float() # усредняем эмбеддинги\n",
        "        x = self.linear1(x)\n",
        "        x = self.relu(x)\n",
        "        # x = self.dropout2(x)\n",
        "        x = self.linear2(x)\n",
        "        x = self.softmax(self.batch_norm2(x))\n",
        "        \n",
        "        return x"
      ],
      "metadata": {
        "id": "HAp4rblCv9l5"
      },
      "id": "HAp4rblCv9l5",
      "execution_count": 51,
      "outputs": []
    },
    {
      "cell_type": "code",
      "source": [
        "model = DeepAverageNetwork(embeddings_maxtrix=torch.Tensor(embeddings_matrix))"
      ],
      "metadata": {
        "id": "ddrgpnZ3xv8B"
      },
      "id": "ddrgpnZ3xv8B",
      "execution_count": 52,
      "outputs": []
    },
    {
      "cell_type": "code",
      "source": [
        "model = model.to(device)"
      ],
      "metadata": {
        "id": "bspxiU91DQsG"
      },
      "id": "bspxiU91DQsG",
      "execution_count": 53,
      "outputs": []
    },
    {
      "cell_type": "code",
      "source": [
        "criterion = torch.nn.CrossEntropyLoss().to(device)"
      ],
      "metadata": {
        "id": "F5OubxqnxaUl"
      },
      "id": "F5OubxqnxaUl",
      "execution_count": 54,
      "outputs": []
    },
    {
      "cell_type": "code",
      "source": [
        "optimizer = torch.optim.Adam(model.parameters(), lr=0.01)"
      ],
      "metadata": {
        "id": "gUQPr9IOxqJk"
      },
      "id": "gUQPr9IOxqJk",
      "execution_count": 55,
      "outputs": []
    },
    {
      "cell_type": "markdown",
      "source": [
        "# 6. Обучение"
      ],
      "metadata": {
        "id": "MscmLJN8Q7Is"
      },
      "id": "MscmLJN8Q7Is"
    },
    {
      "cell_type": "code",
      "source": [
        "epochs = 10\n",
        "losses = []\n",
        "# нужно для early stopping, то есть трекать лучший лосс на валидации\n",
        "best_test_loss = 10.\n",
        "valid_preds_final = {'preds': [], 'targets': []}\n",
        "\n",
        "for n_epoch in range(epochs):\n",
        "    \n",
        "    train_losses = [] # train losses for current epoch\n",
        "    test_losses = [] # test losses for current epoch\n",
        "    test_preds = [] # predictions to evaluate the model on current epoch\n",
        "    test_targets = [] \n",
        "    \n",
        "    progress_bar = tqdm(total=len(train_loader.dataset), desc='Epoch {}'.format(n_epoch + 1))\n",
        "    \n",
        "    for x, y in train_loader:\n",
        "        \n",
        "        optimizer.zero_grad()\n",
        "        \n",
        "        pred = model(x.to(device))\n",
        "        \n",
        "        loss = criterion(pred, y.to(device))\n",
        "        \n",
        "        loss.backward()\n",
        "        \n",
        "        optimizer.step()\n",
        "        \n",
        "        train_losses.append(loss.item())\n",
        "        losses.append(loss.item())\n",
        "        \n",
        "        progress_bar.set_postfix(train_loss = np.mean(losses[-100:]))\n",
        "\n",
        "        progress_bar.update(x.shape[0])\n",
        "        \n",
        "    progress_bar.close()\n",
        "    \n",
        "    for x, y in valid_loader:\n",
        "\n",
        "        with torch.no_grad():\n",
        "            \n",
        "            pred = model(x.to(device))\n",
        "            \n",
        "        test_preds.append(pred.to('cpu').numpy()) # batch predictions\n",
        "        test_targets.append(y.to('cpu').numpy())\n",
        "\n",
        "        loss = criterion(pred, y.to(device)) # batch loss\n",
        "\n",
        "        test_losses.append(loss.item())\n",
        "        \n",
        "    mean_test_loss = np.mean(test_losses)\n",
        "        \n",
        "    print('Losses: train - {:.3f}, validation = {:.3f}'.format(np.mean(train_losses), mean_test_loss))\n",
        "    \n",
        "    test_preds = np.concatenate(test_preds)\n",
        "    test_preds = test_preds.squeeze()\n",
        "    test_targets = np.concatenate(test_targets).squeeze()\n",
        "    \n",
        "    test_preds = test_preds.argmax(1).tolist() \n",
        "\n",
        "    valid_preds_final['preds'] = test_preds\n",
        "    valid_preds_final['targets'] = test_targets\n",
        "\n",
        "    f_score = f1_score(test_targets, test_preds, average='macro')\n",
        "\n",
        "    print('Validation: macro f1 - {:.3f}'.format(f_score))\n",
        "        \n",
        "    # early stopping\n",
        "    if mean_test_loss < best_test_loss:\n",
        "        best_test_loss = mean_test_loss\n",
        "    else:\n",
        "        print('Early stopping')\n",
        "        break    "
      ],
      "metadata": {
        "colab": {
          "base_uri": "https://localhost:8080/",
          "height": 301,
          "referenced_widgets": [
            "dec663518dc044158d8033e3a33c2f85",
            "95837a35399c40f7983eabe35d22d865",
            "0e7edcf2591b40198ba6619aecf88c04",
            "0166ba05fc65469d9098a39755be67d6",
            "5518b626424847c8b8a8ccf20ab2fb14",
            "24bab23cb3fd48b9b0b5cc65e6e5d63f",
            "6de3a343edf64451bba7116ac9fef7cc",
            "f116698aeb914cfa8d6c7109f35bf9e8",
            "d7cfed0defbe4fe0b2fa6221a68bb6cb",
            "169d0d9b429247fdb46e22fba176785b",
            "e42de06ad4b44c40a2b01dfdaa531c60",
            "01049109230244b4b75f595d2da074b2",
            "2d5a0da342af45a8a0593dbd26ae9f45",
            "b7d0fdfdff134bc88072125297000c91",
            "9ac520b5475b4bf3b1b73642390c6b4e",
            "ebfab51fbc4e477ba865e0a62778a6d0",
            "c87f5406875a4f84b4dba2a85520dd38",
            "240ab097da3741feb52a240f53092890",
            "74e9399492ed40c59e7755ea7699d803",
            "d9e80c75dcad4f6498f540e391852b40",
            "306598d0f0a74f47b75f3b3b6bc52e6c",
            "2ed759798cef46909651be5d130f9ebd",
            "d7bdca1173fd4841bfccf2a3c1f164d5",
            "bea5e2d5840a4d458c1864d4abb29766",
            "25912f9a284442a18b9fdec03eca5d3f",
            "fa147a987657474f831315de8c56cfee",
            "d99405981e01407188f7551ce27f847d",
            "cb1c6ae90dc9424a91f8ed57bcaecd38",
            "b56d8d2597ee457db8984097dd17457f",
            "c31736d3adb7447386a933a3e67b2c4b",
            "b503482e755d46d0b522f7148569eb8a",
            "f47c873d09384bb29422aa63cd12ec42",
            "249977cc531b4fb2a492545aca7aadc3",
            "a61492132fb84b8ab0a31734239d580a",
            "d5ae1cfbdd944485b04a1ff383c6c03c",
            "c2b7d5f3c5664b4a9008055e02b02697",
            "ca0ab19dae2e4d1f8f5d71c1145de156",
            "d093bfb5df5b4407990afb7f9d02ec6d",
            "847faa347b76443db893e561450b8603",
            "a736cebc31b44ea093dc937a1cc1db44",
            "8b0ed03d4c264ef9addcb9047ffa20d3",
            "3849bfae030c47c6968b19b1ee4dc5d2",
            "ac643164d2a6476d9fcb5abb861cdf01",
            "62b25063353f42e3a9b864b0a1590dc9"
          ]
        },
        "id": "l6647Tk47bUf",
        "outputId": "c6369b11-4189-4ba6-e2c6-7356214ad9a8"
      },
      "id": "l6647Tk47bUf",
      "execution_count": 56,
      "outputs": [
        {
          "output_type": "display_data",
          "data": {
            "text/plain": [
              "Epoch 1:   0%|          | 0/45615 [00:00<?, ?it/s]"
            ],
            "application/vnd.jupyter.widget-view+json": {
              "version_major": 2,
              "version_minor": 0,
              "model_id": "dec663518dc044158d8033e3a33c2f85"
            }
          },
          "metadata": {}
        },
        {
          "output_type": "stream",
          "name": "stdout",
          "text": [
            "Losses: train - 0.959, validation = 0.923\n",
            "Validation: macro f1 - 0.560\n"
          ]
        },
        {
          "output_type": "display_data",
          "data": {
            "text/plain": [
              "Epoch 2:   0%|          | 0/45615 [00:00<?, ?it/s]"
            ],
            "application/vnd.jupyter.widget-view+json": {
              "version_major": 2,
              "version_minor": 0,
              "model_id": "01049109230244b4b75f595d2da074b2"
            }
          },
          "metadata": {}
        },
        {
          "output_type": "stream",
          "name": "stdout",
          "text": [
            "Losses: train - 0.873, validation = 0.913\n",
            "Validation: macro f1 - 0.577\n"
          ]
        },
        {
          "output_type": "display_data",
          "data": {
            "text/plain": [
              "Epoch 3:   0%|          | 0/45615 [00:00<?, ?it/s]"
            ],
            "application/vnd.jupyter.widget-view+json": {
              "version_major": 2,
              "version_minor": 0,
              "model_id": "d7bdca1173fd4841bfccf2a3c1f164d5"
            }
          },
          "metadata": {}
        },
        {
          "output_type": "stream",
          "name": "stdout",
          "text": [
            "Losses: train - 0.834, validation = 0.912\n",
            "Validation: macro f1 - 0.583\n"
          ]
        },
        {
          "output_type": "display_data",
          "data": {
            "text/plain": [
              "Epoch 4:   0%|          | 0/45615 [00:00<?, ?it/s]"
            ],
            "application/vnd.jupyter.widget-view+json": {
              "version_major": 2,
              "version_minor": 0,
              "model_id": "a61492132fb84b8ab0a31734239d580a"
            }
          },
          "metadata": {}
        },
        {
          "output_type": "stream",
          "name": "stdout",
          "text": [
            "Losses: train - 0.809, validation = 0.921\n",
            "Validation: macro f1 - 0.580\n",
            "Early stopping\n"
          ]
        }
      ]
    },
    {
      "cell_type": "markdown",
      "source": [
        "# 7. Анализ качества модели"
      ],
      "metadata": {
        "id": "UUCyHwW9q9sO"
      },
      "id": "UUCyHwW9q9sO"
    },
    {
      "cell_type": "markdown",
      "source": [
        "На Classification report видно, что хуже всего модель распознает класс '0' (негативные твитты). В обучающем датасете для этого класса было меньше всего примеров. Нейтральные и позитивные твитты модель распознает с более лучшим качеством, однако в целом качество модели нельзя назвать удовлетворительным."
      ],
      "metadata": {
        "id": "ZyU0d8ikxllE"
      },
      "id": "ZyU0d8ikxllE"
    },
    {
      "cell_type": "code",
      "source": [
        "print(classification_report(valid_preds_final['targets'], valid_preds_final['preds']))"
      ],
      "metadata": {
        "colab": {
          "base_uri": "https://localhost:8080/"
        },
        "id": "Q66M1FGCvpoT",
        "outputId": "cbc8c375-02dc-40fc-c41f-20f5d7984da6"
      },
      "id": "Q66M1FGCvpoT",
      "execution_count": 57,
      "outputs": [
        {
          "output_type": "stream",
          "name": "stdout",
          "text": [
            "              precision    recall  f1-score   support\n",
            "\n",
            "           0       0.51      0.40      0.45       312\n",
            "           1       0.59      0.68      0.64       869\n",
            "           2       0.68      0.63      0.65       819\n",
            "\n",
            "    accuracy                           0.62      2000\n",
            "   macro avg       0.59      0.57      0.58      2000\n",
            "weighted avg       0.62      0.62      0.61      2000\n",
            "\n"
          ]
        }
      ]
    },
    {
      "cell_type": "markdown",
      "source": [
        "Матрица ошибок:"
      ],
      "metadata": {
        "id": "J4PbqQt03D82"
      },
      "id": "J4PbqQt03D82"
    },
    {
      "cell_type": "code",
      "source": [
        "import seaborn as sns\n",
        "from sklearn.metrics import confusion_matrix\n",
        "\n",
        "fig, ax = plt.subplots(figsize=(7,7))  \n",
        "\n",
        "cf_matrix = confusion_matrix(valid_preds_final['targets'], valid_preds_final['preds'])\n",
        "classes = [0, 1, 2]\n",
        "\n",
        "s = sns.heatmap(cf_matrix, annot=True, ax=ax, fmt='g', cmap='Blues', xticklabels=classes, yticklabels=classes)\n",
        "s.set(xlabel='PREDICTED', ylabel='TRUE')"
      ],
      "metadata": {
        "colab": {
          "base_uri": "https://localhost:8080/",
          "height": 459
        },
        "id": "t-bdjEtEyep4",
        "outputId": "83b55093-9026-4ebc-af29-079245d5c467"
      },
      "id": "t-bdjEtEyep4",
      "execution_count": 58,
      "outputs": [
        {
          "output_type": "execute_result",
          "data": {
            "text/plain": [
              "[Text(42.0, 0.5, 'TRUE'), Text(0.5, 42.0, 'PREDICTED')]"
            ]
          },
          "metadata": {},
          "execution_count": 58
        },
        {
          "output_type": "display_data",
          "data": {
            "text/plain": [
              "<Figure size 504x504 with 2 Axes>"
            ],
            "image/png": "[encoded data removed]"
          },
          "metadata": {
            "needs_background": "light"
          }
        }
      ]
    },
    {
      "cell_type": "markdown",
      "source": [
        "Оценим качество модели на тестовой выборке"
      ],
      "metadata": {
        "id": "jGMQ2psi3LgP"
      },
      "id": "jGMQ2psi3LgP"
    },
    {
      "cell_type": "code",
      "source": [
        "def get_preds(loader, model):\n",
        "  test_preds = []\n",
        "  test_targets = []\n",
        "  for x, y in loader:\n",
        "        with torch.no_grad():\n",
        "            pred = model(x.to(device))\n",
        "        test_preds.append(pred.to('cpu').numpy()) # batch predictions\n",
        "        test_targets.append(y.to('cpu').numpy())\n",
        "                \n",
        "  test_preds = np.concatenate(test_preds)\n",
        "  test_preds = test_preds.squeeze()\n",
        "  test_targets = np.concatenate(test_targets).squeeze()\n",
        "  \n",
        "  test_preds = test_preds.argmax(1).tolist() \n",
        "\n",
        "  return {'preds': test_preds, 'targets': test_targets}"
      ],
      "metadata": {
        "id": "w4ttDSZqq_Eh"
      },
      "id": "w4ttDSZqq_Eh",
      "execution_count": 59,
      "outputs": []
    },
    {
      "cell_type": "code",
      "source": [
        "test_predictions = get_preds(test_loader, model) # предсказания модели на тестовой выборке"
      ],
      "metadata": {
        "id": "O6sWRrXPwIcz"
      },
      "id": "O6sWRrXPwIcz",
      "execution_count": 60,
      "outputs": []
    },
    {
      "cell_type": "markdown",
      "source": [
        "Видим, что качество на тестовой выборке хуже, чем на валидации (что ожидаемо):"
      ],
      "metadata": {
        "id": "R_B95GPA-gMt"
      },
      "id": "R_B95GPA-gMt"
    },
    {
      "cell_type": "code",
      "source": [
        "print(classification_report(test_predictions['targets'], test_predictions['preds']))"
      ],
      "metadata": {
        "colab": {
          "base_uri": "https://localhost:8080/"
        },
        "id": "pWSuAox_3fQ_",
        "outputId": "fef0a70f-f88a-43ce-e6e9-c2f282bca0f8"
      },
      "id": "pWSuAox_3fQ_",
      "execution_count": 61,
      "outputs": [
        {
          "output_type": "stream",
          "name": "stdout",
          "text": [
            "              precision    recall  f1-score   support\n",
            "\n",
            "           0       0.67      0.35      0.46      3972\n",
            "           1       0.60      0.65      0.62      5937\n",
            "           2       0.39      0.62      0.48      2375\n",
            "\n",
            "    accuracy                           0.55     12284\n",
            "   macro avg       0.55      0.54      0.52     12284\n",
            "weighted avg       0.58      0.55      0.54     12284\n",
            "\n"
          ]
        }
      ]
    },
    {
      "cell_type": "markdown",
      "metadata": {
        "id": "87583e79"
      },
      "source": [
        "# Выводы\n",
        "\n",
        "Я поняла основную идею Deep Average Network, однако построить качественную модель пока не вышло. В данной задаче присутствует дисбаланс классов, и в целом различать несколько тональностей сложнее, чем в бинарной классификации (где только positive/negative). Но как минимум в качестве бейзлайна полученная модель вполне может подойти. \n",
        "\n",
        "Как можно попробовать улучшить модель:\n",
        "<br>\n",
        "— реализовать residual connection для линейного слоя (пока не разобралась, как это делается)\n",
        "<br>\n",
        "— попробовать взять эмбеддинги от transformer-модели, например, из модели [Twitter-roBERTa-base](https://huggingface.co/cardiffnlp/twitter-roberta-base) (roBERTa, дообученная на твиттах\n",
        "<br>\n",
        "— возможно как-то поменять слои в модели (пробовала добавить еще один скрытый слой с ReLU, но это не особо помогло)"
      ],
      "id": "87583e79"
    }
  ],
  "metadata": {
    "colab": {
      "provenance": []
    },
    "gpuClass": "standard",
    "kernelspec": {
      "display_name": "Python 3 (ipykernel)",
      "language": "python",
      "name": "python3"
    },
    "language_info": {
      "codemirror_mode": {
        "name": "ipython",
        "version": 3
      },
      "file_extension": ".py",
      "mimetype": "text/x-python",
      "name": "python",
      "nbconvert_exporter": "python",
      "pygments_lexer": "ipython3",
      "version": "3.10.6"
    },
    "widgets": {
      "application/vnd.jupyter.widget-state+json": {
        "df3d9f9a9bc94ed4848dc5671c07eb6f": {
          "model_module": "@jupyter-widgets/controls",
          "model_name": "HBoxModel",
          "model_module_version": "1.5.0",
          "state": {
            "_dom_classes": [],
            "_model_module": "@jupyter-widgets/controls",
            "_model_module_version": "1.5.0",
            "_model_name": "HBoxModel",
            "_view_count": null,
            "_view_module": "@jupyter-widgets/controls",
            "_view_module_version": "1.5.0",
            "_view_name": "HBoxView",
            "box_style": "",
            "children": [
              "IPY_MODEL_3c93603b9a9448fb80e08ab306fdad18",
              "IPY_MODEL_c5fd37b28ed740f5a187f0effd323809",
              "IPY_MODEL_054b1fedb50347998911c6a26db15d9d"
            ],
            "layout": "IPY_MODEL_0e4022459f66449e869f2323009f3238"
          }
        },
        "3c93603b9a9448fb80e08ab306fdad18": {
          "model_module": "@jupyter-widgets/controls",
          "model_name": "HTMLModel",
          "model_module_version": "1.5.0",
          "state": {
            "_dom_classes": [],
            "_model_module": "@jupyter-widgets/controls",
            "_model_module_version": "1.5.0",
            "_model_name": "HTMLModel",
            "_view_count": null,
            "_view_module": "@jupyter-widgets/controls",
            "_view_module_version": "1.5.0",
            "_view_name": "HTMLView",
            "description": "",
            "description_tooltip": null,
            "layout": "IPY_MODEL_82e02911e48d45bdbd4f1c670aa6ce19",
            "placeholder": "​",
            "style": "IPY_MODEL_5961a895b4ae489da78954c127c3aa0c",
            "value": "Loading Embeddings: "
          }
        },
        "c5fd37b28ed740f5a187f0effd323809": {
          "model_module": "@jupyter-widgets/controls",
          "model_name": "FloatProgressModel",
          "model_module_version": "1.5.0",
          "state": {
            "_dom_classes": [],
            "_model_module": "@jupyter-widgets/controls",
            "_model_module_version": "1.5.0",
            "_model_name": "FloatProgressModel",
            "_view_count": null,
            "_view_module": "@jupyter-widgets/controls",
            "_view_module_version": "1.5.0",
            "_view_name": "ProgressView",
            "bar_style": "danger",
            "description": "",
            "description_tooltip": null,
            "layout": "IPY_MODEL_6af91c870b364c599212311e9837c680",
            "max": 100000,
            "min": 0,
            "orientation": "horizontal",
            "style": "IPY_MODEL_135ceb61701943159cb1e19242ff1644",
            "value": 100000
          }
        },
        "054b1fedb50347998911c6a26db15d9d": {
          "model_module": "@jupyter-widgets/controls",
          "model_name": "HTMLModel",
          "model_module_version": "1.5.0",
          "state": {
            "_dom_classes": [],
            "_model_module": "@jupyter-widgets/controls",
            "_model_module_version": "1.5.0",
            "_model_name": "HTMLModel",
            "_view_count": null,
            "_view_module": "@jupyter-widgets/controls",
            "_view_module_version": "1.5.0",
            "_view_name": "HTMLView",
            "description": "",
            "description_tooltip": null,
            "layout": "IPY_MODEL_dd1efb26943844a58651e9f7ded94a96",
            "placeholder": "​",
            "style": "IPY_MODEL_436004c497824840b2a6c88044679b64",
            "value": " 100002/? [00:07&lt;00:00, 13384.46it/s]"
          }
        },
        "0e4022459f66449e869f2323009f3238": {
          "model_module": "@jupyter-widgets/base",
          "model_name": "LayoutModel",
          "model_module_version": "1.2.0",
          "state": {
            "_model_module": "@jupyter-widgets/base",
            "_model_module_version": "1.2.0",
            "_model_name": "LayoutModel",
            "_view_count": null,
            "_view_module": "@jupyter-widgets/base",
            "_view_module_version": "1.2.0",
            "_view_name": "LayoutView",
            "align_content": null,
            "align_items": null,
            "align_self": null,
            "border": null,
            "bottom": null,
            "display": null,
            "flex": null,
            "flex_flow": null,
            "grid_area": null,
            "grid_auto_columns": null,
            "grid_auto_flow": null,
            "grid_auto_rows": null,
            "grid_column": null,
            "grid_gap": null,
            "grid_row": null,
            "grid_template_areas": null,
            "grid_template_columns": null,
            "grid_template_rows": null,
            "height": null,
            "justify_content": null,
            "justify_items": null,
            "left": null,
            "margin": null,
            "max_height": null,
            "max_width": null,
            "min_height": null,
            "min_width": null,
            "object_fit": null,
            "object_position": null,
            "order": null,
            "overflow": null,
            "overflow_x": null,
            "overflow_y": null,
            "padding": null,
            "right": null,
            "top": null,
            "visibility": null,
            "width": null
          }
        },
        "82e02911e48d45bdbd4f1c670aa6ce19": {
          "model_module": "@jupyter-widgets/base",
          "model_name": "LayoutModel",
          "model_module_version": "1.2.0",
          "state": {
            "_model_module": "@jupyter-widgets/base",
            "_model_module_version": "1.2.0",
            "_model_name": "LayoutModel",
            "_view_count": null,
            "_view_module": "@jupyter-widgets/base",
            "_view_module_version": "1.2.0",
            "_view_name": "LayoutView",
            "align_content": null,
            "align_items": null,
            "align_self": null,
            "border": null,
            "bottom": null,
            "display": null,
            "flex": null,
            "flex_flow": null,
            "grid_area": null,
            "grid_auto_columns": null,
            "grid_auto_flow": null,
            "grid_auto_rows": null,
            "grid_column": null,
            "grid_gap": null,
            "grid_row": null,
            "grid_template_areas": null,
            "grid_template_columns": null,
            "grid_template_rows": null,
            "height": null,
            "justify_content": null,
            "justify_items": null,
            "left": null,
            "margin": null,
            "max_height": null,
            "max_width": null,
            "min_height": null,
            "min_width": null,
            "object_fit": null,
            "object_position": null,
            "order": null,
            "overflow": null,
            "overflow_x": null,
            "overflow_y": null,
            "padding": null,
            "right": null,
            "top": null,
            "visibility": null,
            "width": null
          }
        },
        "5961a895b4ae489da78954c127c3aa0c": {
          "model_module": "@jupyter-widgets/controls",
          "model_name": "DescriptionStyleModel",
          "model_module_version": "1.5.0",
          "state": {
            "_model_module": "@jupyter-widgets/controls",
            "_model_module_version": "1.5.0",
            "_model_name": "DescriptionStyleModel",
            "_view_count": null,
            "_view_module": "@jupyter-widgets/base",
            "_view_module_version": "1.2.0",
            "_view_name": "StyleView",
            "description_width": ""
          }
        },
        "6af91c870b364c599212311e9837c680": {
          "model_module": "@jupyter-widgets/base",
          "model_name": "LayoutModel",
          "model_module_version": "1.2.0",
          "state": {
            "_model_module": "@jupyter-widgets/base",
            "_model_module_version": "1.2.0",
            "_model_name": "LayoutModel",
            "_view_count": null,
            "_view_module": "@jupyter-widgets/base",
            "_view_module_version": "1.2.0",
            "_view_name": "LayoutView",
            "align_content": null,
            "align_items": null,
            "align_self": null,
            "border": null,
            "bottom": null,
            "display": null,
            "flex": null,
            "flex_flow": null,
            "grid_area": null,
            "grid_auto_columns": null,
            "grid_auto_flow": null,
            "grid_auto_rows": null,
            "grid_column": null,
            "grid_gap": null,
            "grid_row": null,
            "grid_template_areas": null,
            "grid_template_columns": null,
            "grid_template_rows": null,
            "height": null,
            "justify_content": null,
            "justify_items": null,
            "left": null,
            "margin": null,
            "max_height": null,
            "max_width": null,
            "min_height": null,
            "min_width": null,
            "object_fit": null,
            "object_position": null,
            "order": null,
            "overflow": null,
            "overflow_x": null,
            "overflow_y": null,
            "padding": null,
            "right": null,
            "top": null,
            "visibility": null,
            "width": null
          }
        },
        "135ceb61701943159cb1e19242ff1644": {
          "model_module": "@jupyter-widgets/controls",
          "model_name": "ProgressStyleModel",
          "model_module_version": "1.5.0",
          "state": {
            "_model_module": "@jupyter-widgets/controls",
            "_model_module_version": "1.5.0",
            "_model_name": "ProgressStyleModel",
            "_view_count": null,
            "_view_module": "@jupyter-widgets/base",
            "_view_module_version": "1.2.0",
            "_view_name": "StyleView",
            "bar_color": null,
            "description_width": ""
          }
        },
        "dd1efb26943844a58651e9f7ded94a96": {
          "model_module": "@jupyter-widgets/base",
          "model_name": "LayoutModel",
          "model_module_version": "1.2.0",
          "state": {
            "_model_module": "@jupyter-widgets/base",
            "_model_module_version": "1.2.0",
            "_model_name": "LayoutModel",
            "_view_count": null,
            "_view_module": "@jupyter-widgets/base",
            "_view_module_version": "1.2.0",
            "_view_name": "LayoutView",
            "align_content": null,
            "align_items": null,
            "align_self": null,
            "border": null,
            "bottom": null,
            "display": null,
            "flex": null,
            "flex_flow": null,
            "grid_area": null,
            "grid_auto_columns": null,
            "grid_auto_flow": null,
            "grid_auto_rows": null,
            "grid_column": null,
            "grid_gap": null,
            "grid_row": null,
            "grid_template_areas": null,
            "grid_template_columns": null,
            "grid_template_rows": null,
            "height": null,
            "justify_content": null,
            "justify_items": null,
            "left": null,
            "margin": null,
            "max_height": null,
            "max_width": null,
            "min_height": null,
            "min_width": null,
            "object_fit": null,
            "object_position": null,
            "order": null,
            "overflow": null,
            "overflow_x": null,
            "overflow_y": null,
            "padding": null,
            "right": null,
            "top": null,
            "visibility": null,
            "width": null
          }
        },
        "436004c497824840b2a6c88044679b64": {
          "model_module": "@jupyter-widgets/controls",
          "model_name": "DescriptionStyleModel",
          "model_module_version": "1.5.0",
          "state": {
            "_model_module": "@jupyter-widgets/controls",
            "_model_module_version": "1.5.0",
            "_model_name": "DescriptionStyleModel",
            "_view_count": null,
            "_view_module": "@jupyter-widgets/base",
            "_view_module_version": "1.2.0",
            "_view_name": "StyleView",
            "description_width": ""
          }
        },
        "dec663518dc044158d8033e3a33c2f85": {
          "model_module": "@jupyter-widgets/controls",
          "model_name": "HBoxModel",
          "model_module_version": "1.5.0",
          "state": {
            "_dom_classes": [],
            "_model_module": "@jupyter-widgets/controls",
            "_model_module_version": "1.5.0",
            "_model_name": "HBoxModel",
            "_view_count": null,
            "_view_module": "@jupyter-widgets/controls",
            "_view_module_version": "1.5.0",
            "_view_name": "HBoxView",
            "box_style": "",
            "children": [
              "IPY_MODEL_95837a35399c40f7983eabe35d22d865",
              "IPY_MODEL_0e7edcf2591b40198ba6619aecf88c04",
              "IPY_MODEL_0166ba05fc65469d9098a39755be67d6"
            ],
            "layout": "IPY_MODEL_5518b626424847c8b8a8ccf20ab2fb14"
          }
        },
        "95837a35399c40f7983eabe35d22d865": {
          "model_module": "@jupyter-widgets/controls",
          "model_name": "HTMLModel",
          "model_module_version": "1.5.0",
          "state": {
            "_dom_classes": [],
            "_model_module": "@jupyter-widgets/controls",
            "_model_module_version": "1.5.0",
            "_model_name": "HTMLModel",
            "_view_count": null,
            "_view_module": "@jupyter-widgets/controls",
            "_view_module_version": "1.5.0",
            "_view_name": "HTMLView",
            "description": "",
            "description_tooltip": null,
            "layout": "IPY_MODEL_24bab23cb3fd48b9b0b5cc65e6e5d63f",
            "placeholder": "​",
            "style": "IPY_MODEL_6de3a343edf64451bba7116ac9fef7cc",
            "value": "Epoch 1: 100%"
          }
        },
        "0e7edcf2591b40198ba6619aecf88c04": {
          "model_module": "@jupyter-widgets/controls",
          "model_name": "FloatProgressModel",
          "model_module_version": "1.5.0",
          "state": {
            "_dom_classes": [],
            "_model_module": "@jupyter-widgets/controls",
            "_model_module_version": "1.5.0",
            "_model_name": "FloatProgressModel",
            "_view_count": null,
            "_view_module": "@jupyter-widgets/controls",
            "_view_module_version": "1.5.0",
            "_view_name": "ProgressView",
            "bar_style": "success",
            "description": "",
            "description_tooltip": null,
            "layout": "IPY_MODEL_f116698aeb914cfa8d6c7109f35bf9e8",
            "max": 45615,
            "min": 0,
            "orientation": "horizontal",
            "style": "IPY_MODEL_d7cfed0defbe4fe0b2fa6221a68bb6cb",
            "value": 45615
          }
        },
        "0166ba05fc65469d9098a39755be67d6": {
          "model_module": "@jupyter-widgets/controls",
          "model_name": "HTMLModel",
          "model_module_version": "1.5.0",
          "state": {
            "_dom_classes": [],
            "_model_module": "@jupyter-widgets/controls",
            "_model_module_version": "1.5.0",
            "_model_name": "HTMLModel",
            "_view_count": null,
            "_view_module": "@jupyter-widgets/controls",
            "_view_module_version": "1.5.0",
            "_view_name": "HTMLView",
            "description": "",
            "description_tooltip": null,
            "layout": "IPY_MODEL_169d0d9b429247fdb46e22fba176785b",
            "placeholder": "​",
            "style": "IPY_MODEL_e42de06ad4b44c40a2b01dfdaa531c60",
            "value": " 45615/45615 [00:13&lt;00:00, 3427.97it/s, train_loss=0.921]"
          }
        },
        "5518b626424847c8b8a8ccf20ab2fb14": {
          "model_module": "@jupyter-widgets/base",
          "model_name": "LayoutModel",
          "model_module_version": "1.2.0",
          "state": {
            "_model_module": "@jupyter-widgets/base",
            "_model_module_version": "1.2.0",
            "_model_name": "LayoutModel",
            "_view_count": null,
            "_view_module": "@jupyter-widgets/base",
            "_view_module_version": "1.2.0",
            "_view_name": "LayoutView",
            "align_content": null,
            "align_items": null,
            "align_self": null,
            "border": null,
            "bottom": null,
            "display": null,
            "flex": null,
            "flex_flow": null,
            "grid_area": null,
            "grid_auto_columns": null,
            "grid_auto_flow": null,
            "grid_auto_rows": null,
            "grid_column": null,
            "grid_gap": null,
            "grid_row": null,
            "grid_template_areas": null,
            "grid_template_columns": null,
            "grid_template_rows": null,
            "height": null,
            "justify_content": null,
            "justify_items": null,
            "left": null,
            "margin": null,
            "max_height": null,
            "max_width": null,
            "min_height": null,
            "min_width": null,
            "object_fit": null,
            "object_position": null,
            "order": null,
            "overflow": null,
            "overflow_x": null,
            "overflow_y": null,
            "padding": null,
            "right": null,
            "top": null,
            "visibility": null,
            "width": null
          }
        },
        "24bab23cb3fd48b9b0b5cc65e6e5d63f": {
          "model_module": "@jupyter-widgets/base",
          "model_name": "LayoutModel",
          "model_module_version": "1.2.0",
          "state": {
            "_model_module": "@jupyter-widgets/base",
            "_model_module_version": "1.2.0",
            "_model_name": "LayoutModel",
            "_view_count": null,
            "_view_module": "@jupyter-widgets/base",
            "_view_module_version": "1.2.0",
            "_view_name": "LayoutView",
            "align_content": null,
            "align_items": null,
            "align_self": null,
            "border": null,
            "bottom": null,
            "display": null,
            "flex": null,
            "flex_flow": null,
            "grid_area": null,
            "grid_auto_columns": null,
            "grid_auto_flow": null,
            "grid_auto_rows": null,
            "grid_column": null,
            "grid_gap": null,
            "grid_row": null,
            "grid_template_areas": null,
            "grid_template_columns": null,
            "grid_template_rows": null,
            "height": null,
            "justify_content": null,
            "justify_items": null,
            "left": null,
            "margin": null,
            "max_height": null,
            "max_width": null,
            "min_height": null,
            "min_width": null,
            "object_fit": null,
            "object_position": null,
            "order": null,
            "overflow": null,
            "overflow_x": null,
            "overflow_y": null,
            "padding": null,
            "right": null,
            "top": null,
            "visibility": null,
            "width": null
          }
        },
        "6de3a343edf64451bba7116ac9fef7cc": {
          "model_module": "@jupyter-widgets/controls",
          "model_name": "DescriptionStyleModel",
          "model_module_version": "1.5.0",
          "state": {
            "_model_module": "@jupyter-widgets/controls",
            "_model_module_version": "1.5.0",
            "_model_name": "DescriptionStyleModel",
            "_view_count": null,
            "_view_module": "@jupyter-widgets/base",
            "_view_module_version": "1.2.0",
            "_view_name": "StyleView",
            "description_width": ""
          }
        },
        "f116698aeb914cfa8d6c7109f35bf9e8": {
          "model_module": "@jupyter-widgets/base",
          "model_name": "LayoutModel",
          "model_module_version": "1.2.0",
          "state": {
            "_model_module": "@jupyter-widgets/base",
            "_model_module_version": "1.2.0",
            "_model_name": "LayoutModel",
            "_view_count": null,
            "_view_module": "@jupyter-widgets/base",
            "_view_module_version": "1.2.0",
            "_view_name": "LayoutView",
            "align_content": null,
            "align_items": null,
            "align_self": null,
            "border": null,
            "bottom": null,
            "display": null,
            "flex": null,
            "flex_flow": null,
            "grid_area": null,
            "grid_auto_columns": null,
            "grid_auto_flow": null,
            "grid_auto_rows": null,
            "grid_column": null,
            "grid_gap": null,
            "grid_row": null,
            "grid_template_areas": null,
            "grid_template_columns": null,
            "grid_template_rows": null,
            "height": null,
            "justify_content": null,
            "justify_items": null,
            "left": null,
            "margin": null,
            "max_height": null,
            "max_width": null,
            "min_height": null,
            "min_width": null,
            "object_fit": null,
            "object_position": null,
            "order": null,
            "overflow": null,
            "overflow_x": null,
            "overflow_y": null,
            "padding": null,
            "right": null,
            "top": null,
            "visibility": null,
            "width": null
          }
        },
        "d7cfed0defbe4fe0b2fa6221a68bb6cb": {
          "model_module": "@jupyter-widgets/controls",
          "model_name": "ProgressStyleModel",
          "model_module_version": "1.5.0",
          "state": {
            "_model_module": "@jupyter-widgets/controls",
            "_model_module_version": "1.5.0",
            "_model_name": "ProgressStyleModel",
            "_view_count": null,
            "_view_module": "@jupyter-widgets/base",
            "_view_module_version": "1.2.0",
            "_view_name": "StyleView",
            "bar_color": null,
            "description_width": ""
          }
        },
        "169d0d9b429247fdb46e22fba176785b": {
          "model_module": "@jupyter-widgets/base",
          "model_name": "LayoutModel",
          "model_module_version": "1.2.0",
          "state": {
            "_model_module": "@jupyter-widgets/base",
            "_model_module_version": "1.2.0",
            "_model_name": "LayoutModel",
            "_view_count": null,
            "_view_module": "@jupyter-widgets/base",
            "_view_module_version": "1.2.0",
            "_view_name": "LayoutView",
            "align_content": null,
            "align_items": null,
            "align_self": null,
            "border": null,
            "bottom": null,
            "display": null,
            "flex": null,
            "flex_flow": null,
            "grid_area": null,
            "grid_auto_columns": null,
            "grid_auto_flow": null,
            "grid_auto_rows": null,
            "grid_column": null,
            "grid_gap": null,
            "grid_row": null,
            "grid_template_areas": null,
            "grid_template_columns": null,
            "grid_template_rows": null,
            "height": null,
            "justify_content": null,
            "justify_items": null,
            "left": null,
            "margin": null,
            "max_height": null,
            "max_width": null,
            "min_height": null,
            "min_width": null,
            "object_fit": null,
            "object_position": null,
            "order": null,
            "overflow": null,
            "overflow_x": null,
            "overflow_y": null,
            "padding": null,
            "right": null,
            "top": null,
            "visibility": null,
            "width": null
          }
        },
        "e42de06ad4b44c40a2b01dfdaa531c60": {
          "model_module": "@jupyter-widgets/controls",
          "model_name": "DescriptionStyleModel",
          "model_module_version": "1.5.0",
          "state": {
            "_model_module": "@jupyter-widgets/controls",
            "_model_module_version": "1.5.0",
            "_model_name": "DescriptionStyleModel",
            "_view_count": null,
            "_view_module": "@jupyter-widgets/base",
            "_view_module_version": "1.2.0",
            "_view_name": "StyleView",
            "description_width": ""
          }
        },
        "01049109230244b4b75f595d2da074b2": {
          "model_module": "@jupyter-widgets/controls",
          "model_name": "HBoxModel",
          "model_module_version": "1.5.0",
          "state": {
            "_dom_classes": [],
            "_model_module": "@jupyter-widgets/controls",
            "_model_module_version": "1.5.0",
            "_model_name": "HBoxModel",
            "_view_count": null,
            "_view_module": "@jupyter-widgets/controls",
            "_view_module_version": "1.5.0",
            "_view_name": "HBoxView",
            "box_style": "",
            "children": [
              "IPY_MODEL_2d5a0da342af45a8a0593dbd26ae9f45",
              "IPY_MODEL_b7d0fdfdff134bc88072125297000c91",
              "IPY_MODEL_9ac520b5475b4bf3b1b73642390c6b4e"
            ],
            "layout": "IPY_MODEL_ebfab51fbc4e477ba865e0a62778a6d0"
          }
        },
        "2d5a0da342af45a8a0593dbd26ae9f45": {
          "model_module": "@jupyter-widgets/controls",
          "model_name": "HTMLModel",
          "model_module_version": "1.5.0",
          "state": {
            "_dom_classes": [],
            "_model_module": "@jupyter-widgets/controls",
            "_model_module_version": "1.5.0",
            "_model_name": "HTMLModel",
            "_view_count": null,
            "_view_module": "@jupyter-widgets/controls",
            "_view_module_version": "1.5.0",
            "_view_name": "HTMLView",
            "description": "",
            "description_tooltip": null,
            "layout": "IPY_MODEL_c87f5406875a4f84b4dba2a85520dd38",
            "placeholder": "​",
            "style": "IPY_MODEL_240ab097da3741feb52a240f53092890",
            "value": "Epoch 2: 100%"
          }
        },
        "b7d0fdfdff134bc88072125297000c91": {
          "model_module": "@jupyter-widgets/controls",
          "model_name": "FloatProgressModel",
          "model_module_version": "1.5.0",
          "state": {
            "_dom_classes": [],
            "_model_module": "@jupyter-widgets/controls",
            "_model_module_version": "1.5.0",
            "_model_name": "FloatProgressModel",
            "_view_count": null,
            "_view_module": "@jupyter-widgets/controls",
            "_view_module_version": "1.5.0",
            "_view_name": "ProgressView",
            "bar_style": "success",
            "description": "",
            "description_tooltip": null,
            "layout": "IPY_MODEL_74e9399492ed40c59e7755ea7699d803",
            "max": 45615,
            "min": 0,
            "orientation": "horizontal",
            "style": "IPY_MODEL_d9e80c75dcad4f6498f540e391852b40",
            "value": 45615
          }
        },
        "9ac520b5475b4bf3b1b73642390c6b4e": {
          "model_module": "@jupyter-widgets/controls",
          "model_name": "HTMLModel",
          "model_module_version": "1.5.0",
          "state": {
            "_dom_classes": [],
            "_model_module": "@jupyter-widgets/controls",
            "_model_module_version": "1.5.0",
            "_model_name": "HTMLModel",
            "_view_count": null,
            "_view_module": "@jupyter-widgets/controls",
            "_view_module_version": "1.5.0",
            "_view_name": "HTMLView",
            "description": "",
            "description_tooltip": null,
            "layout": "IPY_MODEL_306598d0f0a74f47b75f3b3b6bc52e6c",
            "placeholder": "​",
            "style": "IPY_MODEL_2ed759798cef46909651be5d130f9ebd",
            "value": " 45615/45615 [00:13&lt;00:00, 3533.68it/s, train_loss=0.879]"
          }
        },
        "ebfab51fbc4e477ba865e0a62778a6d0": {
          "model_module": "@jupyter-widgets/base",
          "model_name": "LayoutModel",
          "model_module_version": "1.2.0",
          "state": {
            "_model_module": "@jupyter-widgets/base",
            "_model_module_version": "1.2.0",
            "_model_name": "LayoutModel",
            "_view_count": null,
            "_view_module": "@jupyter-widgets/base",
            "_view_module_version": "1.2.0",
            "_view_name": "LayoutView",
            "align_content": null,
            "align_items": null,
            "align_self": null,
            "border": null,
            "bottom": null,
            "display": null,
            "flex": null,
            "flex_flow": null,
            "grid_area": null,
            "grid_auto_columns": null,
            "grid_auto_flow": null,
            "grid_auto_rows": null,
            "grid_column": null,
            "grid_gap": null,
            "grid_row": null,
            "grid_template_areas": null,
            "grid_template_columns": null,
            "grid_template_rows": null,
            "height": null,
            "justify_content": null,
            "justify_items": null,
            "left": null,
            "margin": null,
            "max_height": null,
            "max_width": null,
            "min_height": null,
            "min_width": null,
            "object_fit": null,
            "object_position": null,
            "order": null,
            "overflow": null,
            "overflow_x": null,
            "overflow_y": null,
            "padding": null,
            "right": null,
            "top": null,
            "visibility": null,
            "width": null
          }
        },
        "c87f5406875a4f84b4dba2a85520dd38": {
          "model_module": "@jupyter-widgets/base",
          "model_name": "LayoutModel",
          "model_module_version": "1.2.0",
          "state": {
            "_model_module": "@jupyter-widgets/base",
            "_model_module_version": "1.2.0",
            "_model_name": "LayoutModel",
            "_view_count": null,
            "_view_module": "@jupyter-widgets/base",
            "_view_module_version": "1.2.0",
            "_view_name": "LayoutView",
            "align_content": null,
            "align_items": null,
            "align_self": null,
            "border": null,
            "bottom": null,
            "display": null,
            "flex": null,
            "flex_flow": null,
            "grid_area": null,
            "grid_auto_columns": null,
            "grid_auto_flow": null,
            "grid_auto_rows": null,
            "grid_column": null,
            "grid_gap": null,
            "grid_row": null,
            "grid_template_areas": null,
            "grid_template_columns": null,
            "grid_template_rows": null,
            "height": null,
            "justify_content": null,
            "justify_items": null,
            "left": null,
            "margin": null,
            "max_height": null,
            "max_width": null,
            "min_height": null,
            "min_width": null,
            "object_fit": null,
            "object_position": null,
            "order": null,
            "overflow": null,
            "overflow_x": null,
            "overflow_y": null,
            "padding": null,
            "right": null,
            "top": null,
            "visibility": null,
            "width": null
          }
        },
        "240ab097da3741feb52a240f53092890": {
          "model_module": "@jupyter-widgets/controls",
          "model_name": "DescriptionStyleModel",
          "model_module_version": "1.5.0",
          "state": {
            "_model_module": "@jupyter-widgets/controls",
            "_model_module_version": "1.5.0",
            "_model_name": "DescriptionStyleModel",
            "_view_count": null,
            "_view_module": "@jupyter-widgets/base",
            "_view_module_version": "1.2.0",
            "_view_name": "StyleView",
            "description_width": ""
          }
        },
        "74e9399492ed40c59e7755ea7699d803": {
          "model_module": "@jupyter-widgets/base",
          "model_name": "LayoutModel",
          "model_module_version": "1.2.0",
          "state": {
            "_model_module": "@jupyter-widgets/base",
            "_model_module_version": "1.2.0",
            "_model_name": "LayoutModel",
            "_view_count": null,
            "_view_module": "@jupyter-widgets/base",
            "_view_module_version": "1.2.0",
            "_view_name": "LayoutView",
            "align_content": null,
            "align_items": null,
            "align_self": null,
            "border": null,
            "bottom": null,
            "display": null,
            "flex": null,
            "flex_flow": null,
            "grid_area": null,
            "grid_auto_columns": null,
            "grid_auto_flow": null,
            "grid_auto_rows": null,
            "grid_column": null,
            "grid_gap": null,
            "grid_row": null,
            "grid_template_areas": null,
            "grid_template_columns": null,
            "grid_template_rows": null,
            "height": null,
            "justify_content": null,
            "justify_items": null,
            "left": null,
            "margin": null,
            "max_height": null,
            "max_width": null,
            "min_height": null,
            "min_width": null,
            "object_fit": null,
            "object_position": null,
            "order": null,
            "overflow": null,
            "overflow_x": null,
            "overflow_y": null,
            "padding": null,
            "right": null,
            "top": null,
            "visibility": null,
            "width": null
          }
        },
        "d9e80c75dcad4f6498f540e391852b40": {
          "model_module": "@jupyter-widgets/controls",
          "model_name": "ProgressStyleModel",
          "model_module_version": "1.5.0",
          "state": {
            "_model_module": "@jupyter-widgets/controls",
            "_model_module_version": "1.5.0",
            "_model_name": "ProgressStyleModel",
            "_view_count": null,
            "_view_module": "@jupyter-widgets/base",
            "_view_module_version": "1.2.0",
            "_view_name": "StyleView",
            "bar_color": null,
            "description_width": ""
          }
        },
        "306598d0f0a74f47b75f3b3b6bc52e6c": {
          "model_module": "@jupyter-widgets/base",
          "model_name": "LayoutModel",
          "model_module_version": "1.2.0",
          "state": {
            "_model_module": "@jupyter-widgets/base",
            "_model_module_version": "1.2.0",
            "_model_name": "LayoutModel",
            "_view_count": null,
            "_view_module": "@jupyter-widgets/base",
            "_view_module_version": "1.2.0",
            "_view_name": "LayoutView",
            "align_content": null,
            "align_items": null,
            "align_self": null,
            "border": null,
            "bottom": null,
            "display": null,
            "flex": null,
            "flex_flow": null,
            "grid_area": null,
            "grid_auto_columns": null,
            "grid_auto_flow": null,
            "grid_auto_rows": null,
            "grid_column": null,
            "grid_gap": null,
            "grid_row": null,
            "grid_template_areas": null,
            "grid_template_columns": null,
            "grid_template_rows": null,
            "height": null,
            "justify_content": null,
            "justify_items": null,
            "left": null,
            "margin": null,
            "max_height": null,
            "max_width": null,
            "min_height": null,
            "min_width": null,
            "object_fit": null,
            "object_position": null,
            "order": null,
            "overflow": null,
            "overflow_x": null,
            "overflow_y": null,
            "padding": null,
            "right": null,
            "top": null,
            "visibility": null,
            "width": null
          }
        },
        "2ed759798cef46909651be5d130f9ebd": {
          "model_module": "@jupyter-widgets/controls",
          "model_name": "DescriptionStyleModel",
          "model_module_version": "1.5.0",
          "state": {
            "_model_module": "@jupyter-widgets/controls",
            "_model_module_version": "1.5.0",
            "_model_name": "DescriptionStyleModel",
            "_view_count": null,
            "_view_module": "@jupyter-widgets/base",
            "_view_module_version": "1.2.0",
            "_view_name": "StyleView",
            "description_width": ""
          }
        },
        "d7bdca1173fd4841bfccf2a3c1f164d5": {
          "model_module": "@jupyter-widgets/controls",
          "model_name": "HBoxModel",
          "model_module_version": "1.5.0",
          "state": {
            "_dom_classes": [],
            "_model_module": "@jupyter-widgets/controls",
            "_model_module_version": "1.5.0",
            "_model_name": "HBoxModel",
            "_view_count": null,
            "_view_module": "@jupyter-widgets/controls",
            "_view_module_version": "1.5.0",
            "_view_name": "HBoxView",
            "box_style": "",
            "children": [
              "IPY_MODEL_bea5e2d5840a4d458c1864d4abb29766",
              "IPY_MODEL_25912f9a284442a18b9fdec03eca5d3f",
              "IPY_MODEL_fa147a987657474f831315de8c56cfee"
            ],
            "layout": "IPY_MODEL_d99405981e01407188f7551ce27f847d"
          }
        },
        "bea5e2d5840a4d458c1864d4abb29766": {
          "model_module": "@jupyter-widgets/controls",
          "model_name": "HTMLModel",
          "model_module_version": "1.5.0",
          "state": {
            "_dom_classes": [],
            "_model_module": "@jupyter-widgets/controls",
            "_model_module_version": "1.5.0",
            "_model_name": "HTMLModel",
            "_view_count": null,
            "_view_module": "@jupyter-widgets/controls",
            "_view_module_version": "1.5.0",
            "_view_name": "HTMLView",
            "description": "",
            "description_tooltip": null,
            "layout": "IPY_MODEL_cb1c6ae90dc9424a91f8ed57bcaecd38",
            "placeholder": "​",
            "style": "IPY_MODEL_b56d8d2597ee457db8984097dd17457f",
            "value": "Epoch 3: 100%"
          }
        },
        "25912f9a284442a18b9fdec03eca5d3f": {
          "model_module": "@jupyter-widgets/controls",
          "model_name": "FloatProgressModel",
          "model_module_version": "1.5.0",
          "state": {
            "_dom_classes": [],
            "_model_module": "@jupyter-widgets/controls",
            "_model_module_version": "1.5.0",
            "_model_name": "FloatProgressModel",
            "_view_count": null,
            "_view_module": "@jupyter-widgets/controls",
            "_view_module_version": "1.5.0",
            "_view_name": "ProgressView",
            "bar_style": "success",
            "description": "",
            "description_tooltip": null,
            "layout": "IPY_MODEL_c31736d3adb7447386a933a3e67b2c4b",
            "max": 45615,
            "min": 0,
            "orientation": "horizontal",
            "style": "IPY_MODEL_b503482e755d46d0b522f7148569eb8a",
            "value": 45615
          }
        },
        "fa147a987657474f831315de8c56cfee": {
          "model_module": "@jupyter-widgets/controls",
          "model_name": "HTMLModel",
          "model_module_version": "1.5.0",
          "state": {
            "_dom_classes": [],
            "_model_module": "@jupyter-widgets/controls",
            "_model_module_version": "1.5.0",
            "_model_name": "HTMLModel",
            "_view_count": null,
            "_view_module": "@jupyter-widgets/controls",
            "_view_module_version": "1.5.0",
            "_view_name": "HTMLView",
            "description": "",
            "description_tooltip": null,
            "layout": "IPY_MODEL_f47c873d09384bb29422aa63cd12ec42",
            "placeholder": "​",
            "style": "IPY_MODEL_249977cc531b4fb2a492545aca7aadc3",
            "value": " 45615/45615 [00:13&lt;00:00, 3572.26it/s, train_loss=0.845]"
          }
        },
        "d99405981e01407188f7551ce27f847d": {
          "model_module": "@jupyter-widgets/base",
          "model_name": "LayoutModel",
          "model_module_version": "1.2.0",
          "state": {
            "_model_module": "@jupyter-widgets/base",
            "_model_module_version": "1.2.0",
            "_model_name": "LayoutModel",
            "_view_count": null,
            "_view_module": "@jupyter-widgets/base",
            "_view_module_version": "1.2.0",
            "_view_name": "LayoutView",
            "align_content": null,
            "align_items": null,
            "align_self": null,
            "border": null,
            "bottom": null,
            "display": null,
            "flex": null,
            "flex_flow": null,
            "grid_area": null,
            "grid_auto_columns": null,
            "grid_auto_flow": null,
            "grid_auto_rows": null,
            "grid_column": null,
            "grid_gap": null,
            "grid_row": null,
            "grid_template_areas": null,
            "grid_template_columns": null,
            "grid_template_rows": null,
            "height": null,
            "justify_content": null,
            "justify_items": null,
            "left": null,
            "margin": null,
            "max_height": null,
            "max_width": null,
            "min_height": null,
            "min_width": null,
            "object_fit": null,
            "object_position": null,
            "order": null,
            "overflow": null,
            "overflow_x": null,
            "overflow_y": null,
            "padding": null,
            "right": null,
            "top": null,
            "visibility": null,
            "width": null
          }
        },
        "cb1c6ae90dc9424a91f8ed57bcaecd38": {
          "model_module": "@jupyter-widgets/base",
          "model_name": "LayoutModel",
          "model_module_version": "1.2.0",
          "state": {
            "_model_module": "@jupyter-widgets/base",
            "_model_module_version": "1.2.0",
            "_model_name": "LayoutModel",
            "_view_count": null,
            "_view_module": "@jupyter-widgets/base",
            "_view_module_version": "1.2.0",
            "_view_name": "LayoutView",
            "align_content": null,
            "align_items": null,
            "align_self": null,
            "border": null,
            "bottom": null,
            "display": null,
            "flex": null,
            "flex_flow": null,
            "grid_area": null,
            "grid_auto_columns": null,
            "grid_auto_flow": null,
            "grid_auto_rows": null,
            "grid_column": null,
            "grid_gap": null,
            "grid_row": null,
            "grid_template_areas": null,
            "grid_template_columns": null,
            "grid_template_rows": null,
            "height": null,
            "justify_content": null,
            "justify_items": null,
            "left": null,
            "margin": null,
            "max_height": null,
            "max_width": null,
            "min_height": null,
            "min_width": null,
            "object_fit": null,
            "object_position": null,
            "order": null,
            "overflow": null,
            "overflow_x": null,
            "overflow_y": null,
            "padding": null,
            "right": null,
            "top": null,
            "visibility": null,
            "width": null
          }
        },
        "b56d8d2597ee457db8984097dd17457f": {
          "model_module": "@jupyter-widgets/controls",
          "model_name": "DescriptionStyleModel",
          "model_module_version": "1.5.0",
          "state": {
            "_model_module": "@jupyter-widgets/controls",
            "_model_module_version": "1.5.0",
            "_model_name": "DescriptionStyleModel",
            "_view_count": null,
            "_view_module": "@jupyter-widgets/base",
            "_view_module_version": "1.2.0",
            "_view_name": "StyleView",
            "description_width": ""
          }
        },
        "c31736d3adb7447386a933a3e67b2c4b": {
          "model_module": "@jupyter-widgets/base",
          "model_name": "LayoutModel",
          "model_module_version": "1.2.0",
          "state": {
            "_model_module": "@jupyter-widgets/base",
            "_model_module_version": "1.2.0",
            "_model_name": "LayoutModel",
            "_view_count": null,
            "_view_module": "@jupyter-widgets/base",
            "_view_module_version": "1.2.0",
            "_view_name": "LayoutView",
            "align_content": null,
            "align_items": null,
            "align_self": null,
            "border": null,
            "bottom": null,
            "display": null,
            "flex": null,
            "flex_flow": null,
            "grid_area": null,
            "grid_auto_columns": null,
            "grid_auto_flow": null,
            "grid_auto_rows": null,
            "grid_column": null,
            "grid_gap": null,
            "grid_row": null,
            "grid_template_areas": null,
            "grid_template_columns": null,
            "grid_template_rows": null,
            "height": null,
            "justify_content": null,
            "justify_items": null,
            "left": null,
            "margin": null,
            "max_height": null,
            "max_width": null,
            "min_height": null,
            "min_width": null,
            "object_fit": null,
            "object_position": null,
            "order": null,
            "overflow": null,
            "overflow_x": null,
            "overflow_y": null,
            "padding": null,
            "right": null,
            "top": null,
            "visibility": null,
            "width": null
          }
        },
        "b503482e755d46d0b522f7148569eb8a": {
          "model_module": "@jupyter-widgets/controls",
          "model_name": "ProgressStyleModel",
          "model_module_version": "1.5.0",
          "state": {
            "_model_module": "@jupyter-widgets/controls",
            "_model_module_version": "1.5.0",
            "_model_name": "ProgressStyleModel",
            "_view_count": null,
            "_view_module": "@jupyter-widgets/base",
            "_view_module_version": "1.2.0",
            "_view_name": "StyleView",
            "bar_color": null,
            "description_width": ""
          }
        },
        "f47c873d09384bb29422aa63cd12ec42": {
          "model_module": "@jupyter-widgets/base",
          "model_name": "LayoutModel",
          "model_module_version": "1.2.0",
          "state": {
            "_model_module": "@jupyter-widgets/base",
            "_model_module_version": "1.2.0",
            "_model_name": "LayoutModel",
            "_view_count": null,
            "_view_module": "@jupyter-widgets/base",
            "_view_module_version": "1.2.0",
            "_view_name": "LayoutView",
            "align_content": null,
            "align_items": null,
            "align_self": null,
            "border": null,
            "bottom": null,
            "display": null,
            "flex": null,
            "flex_flow": null,
            "grid_area": null,
            "grid_auto_columns": null,
            "grid_auto_flow": null,
            "grid_auto_rows": null,
            "grid_column": null,
            "grid_gap": null,
            "grid_row": null,
            "grid_template_areas": null,
            "grid_template_columns": null,
            "grid_template_rows": null,
            "height": null,
            "justify_content": null,
            "justify_items": null,
            "left": null,
            "margin": null,
            "max_height": null,
            "max_width": null,
            "min_height": null,
            "min_width": null,
            "object_fit": null,
            "object_position": null,
            "order": null,
            "overflow": null,
            "overflow_x": null,
            "overflow_y": null,
            "padding": null,
            "right": null,
            "top": null,
            "visibility": null,
            "width": null
          }
        },
        "249977cc531b4fb2a492545aca7aadc3": {
          "model_module": "@jupyter-widgets/controls",
          "model_name": "DescriptionStyleModel",
          "model_module_version": "1.5.0",
          "state": {
            "_model_module": "@jupyter-widgets/controls",
            "_model_module_version": "1.5.0",
            "_model_name": "DescriptionStyleModel",
            "_view_count": null,
            "_view_module": "@jupyter-widgets/base",
            "_view_module_version": "1.2.0",
            "_view_name": "StyleView",
            "description_width": ""
          }
        },
        "a61492132fb84b8ab0a31734239d580a": {
          "model_module": "@jupyter-widgets/controls",
          "model_name": "HBoxModel",
          "model_module_version": "1.5.0",
          "state": {
            "_dom_classes": [],
            "_model_module": "@jupyter-widgets/controls",
            "_model_module_version": "1.5.0",
            "_model_name": "HBoxModel",
            "_view_count": null,
            "_view_module": "@jupyter-widgets/controls",
            "_view_module_version": "1.5.0",
            "_view_name": "HBoxView",
            "box_style": "",
            "children": [
              "IPY_MODEL_d5ae1cfbdd944485b04a1ff383c6c03c",
              "IPY_MODEL_c2b7d5f3c5664b4a9008055e02b02697",
              "IPY_MODEL_ca0ab19dae2e4d1f8f5d71c1145de156"
            ],
            "layout": "IPY_MODEL_d093bfb5df5b4407990afb7f9d02ec6d"
          }
        },
        "d5ae1cfbdd944485b04a1ff383c6c03c": {
          "model_module": "@jupyter-widgets/controls",
          "model_name": "HTMLModel",
          "model_module_version": "1.5.0",
          "state": {
            "_dom_classes": [],
            "_model_module": "@jupyter-widgets/controls",
            "_model_module_version": "1.5.0",
            "_model_name": "HTMLModel",
            "_view_count": null,
            "_view_module": "@jupyter-widgets/controls",
            "_view_module_version": "1.5.0",
            "_view_name": "HTMLView",
            "description": "",
            "description_tooltip": null,
            "layout": "IPY_MODEL_847faa347b76443db893e561450b8603",
            "placeholder": "​",
            "style": "IPY_MODEL_a736cebc31b44ea093dc937a1cc1db44",
            "value": "Epoch 4: 100%"
          }
        },
        "c2b7d5f3c5664b4a9008055e02b02697": {
          "model_module": "@jupyter-widgets/controls",
          "model_name": "FloatProgressModel",
          "model_module_version": "1.5.0",
          "state": {
            "_dom_classes": [],
            "_model_module": "@jupyter-widgets/controls",
            "_model_module_version": "1.5.0",
            "_model_name": "FloatProgressModel",
            "_view_count": null,
            "_view_module": "@jupyter-widgets/controls",
            "_view_module_version": "1.5.0",
            "_view_name": "ProgressView",
            "bar_style": "success",
            "description": "",
            "description_tooltip": null,
            "layout": "IPY_MODEL_8b0ed03d4c264ef9addcb9047ffa20d3",
            "max": 45615,
            "min": 0,
            "orientation": "horizontal",
            "style": "IPY_MODEL_3849bfae030c47c6968b19b1ee4dc5d2",
            "value": 45615
          }
        },
        "ca0ab19dae2e4d1f8f5d71c1145de156": {
          "model_module": "@jupyter-widgets/controls",
          "model_name": "HTMLModel",
          "model_module_version": "1.5.0",
          "state": {
            "_dom_classes": [],
            "_model_module": "@jupyter-widgets/controls",
            "_model_module_version": "1.5.0",
            "_model_name": "HTMLModel",
            "_view_count": null,
            "_view_module": "@jupyter-widgets/controls",
            "_view_module_version": "1.5.0",
            "_view_name": "HTMLView",
            "description": "",
            "description_tooltip": null,
            "layout": "IPY_MODEL_ac643164d2a6476d9fcb5abb861cdf01",
            "placeholder": "​",
            "style": "IPY_MODEL_62b25063353f42e3a9b864b0a1590dc9",
            "value": " 45615/45615 [00:13&lt;00:00, 3497.86it/s, train_loss=0.816]"
          }
        },
        "d093bfb5df5b4407990afb7f9d02ec6d": {
          "model_module": "@jupyter-widgets/base",
          "model_name": "LayoutModel",
          "model_module_version": "1.2.0",
          "state": {
            "_model_module": "@jupyter-widgets/base",
            "_model_module_version": "1.2.0",
            "_model_name": "LayoutModel",
            "_view_count": null,
            "_view_module": "@jupyter-widgets/base",
            "_view_module_version": "1.2.0",
            "_view_name": "LayoutView",
            "align_content": null,
            "align_items": null,
            "align_self": null,
            "border": null,
            "bottom": null,
            "display": null,
            "flex": null,
            "flex_flow": null,
            "grid_area": null,
            "grid_auto_columns": null,
            "grid_auto_flow": null,
            "grid_auto_rows": null,
            "grid_column": null,
            "grid_gap": null,
            "grid_row": null,
            "grid_template_areas": null,
            "grid_template_columns": null,
            "grid_template_rows": null,
            "height": null,
            "justify_content": null,
            "justify_items": null,
            "left": null,
            "margin": null,
            "max_height": null,
            "max_width": null,
            "min_height": null,
            "min_width": null,
            "object_fit": null,
            "object_position": null,
            "order": null,
            "overflow": null,
            "overflow_x": null,
            "overflow_y": null,
            "padding": null,
            "right": null,
            "top": null,
            "visibility": null,
            "width": null
          }
        },
        "847faa347b76443db893e561450b8603": {
          "model_module": "@jupyter-widgets/base",
          "model_name": "LayoutModel",
          "model_module_version": "1.2.0",
          "state": {
            "_model_module": "@jupyter-widgets/base",
            "_model_module_version": "1.2.0",
            "_model_name": "LayoutModel",
            "_view_count": null,
            "_view_module": "@jupyter-widgets/base",
            "_view_module_version": "1.2.0",
            "_view_name": "LayoutView",
            "align_content": null,
            "align_items": null,
            "align_self": null,
            "border": null,
            "bottom": null,
            "display": null,
            "flex": null,
            "flex_flow": null,
            "grid_area": null,
            "grid_auto_columns": null,
            "grid_auto_flow": null,
            "grid_auto_rows": null,
            "grid_column": null,
            "grid_gap": null,
            "grid_row": null,
            "grid_template_areas": null,
            "grid_template_columns": null,
            "grid_template_rows": null,
            "height": null,
            "justify_content": null,
            "justify_items": null,
            "left": null,
            "margin": null,
            "max_height": null,
            "max_width": null,
            "min_height": null,
            "min_width": null,
            "object_fit": null,
            "object_position": null,
            "order": null,
            "overflow": null,
            "overflow_x": null,
            "overflow_y": null,
            "padding": null,
            "right": null,
            "top": null,
            "visibility": null,
            "width": null
          }
        },
        "a736cebc31b44ea093dc937a1cc1db44": {
          "model_module": "@jupyter-widgets/controls",
          "model_name": "DescriptionStyleModel",
          "model_module_version": "1.5.0",
          "state": {
            "_model_module": "@jupyter-widgets/controls",
            "_model_module_version": "1.5.0",
            "_model_name": "DescriptionStyleModel",
            "_view_count": null,
            "_view_module": "@jupyter-widgets/base",
            "_view_module_version": "1.2.0",
            "_view_name": "StyleView",
            "description_width": ""
          }
        },
        "8b0ed03d4c264ef9addcb9047ffa20d3": {
          "model_module": "@jupyter-widgets/base",
          "model_name": "LayoutModel",
          "model_module_version": "1.2.0",
          "state": {
            "_model_module": "@jupyter-widgets/base",
            "_model_module_version": "1.2.0",
            "_model_name": "LayoutModel",
            "_view_count": null,
            "_view_module": "@jupyter-widgets/base",
            "_view_module_version": "1.2.0",
            "_view_name": "LayoutView",
            "align_content": null,
            "align_items": null,
            "align_self": null,
            "border": null,
            "bottom": null,
            "display": null,
            "flex": null,
            "flex_flow": null,
            "grid_area": null,
            "grid_auto_columns": null,
            "grid_auto_flow": null,
            "grid_auto_rows": null,
            "grid_column": null,
            "grid_gap": null,
            "grid_row": null,
            "grid_template_areas": null,
            "grid_template_columns": null,
            "grid_template_rows": null,
            "height": null,
            "justify_content": null,
            "justify_items": null,
            "left": null,
            "margin": null,
            "max_height": null,
            "max_width": null,
            "min_height": null,
            "min_width": null,
            "object_fit": null,
            "object_position": null,
            "order": null,
            "overflow": null,
            "overflow_x": null,
            "overflow_y": null,
            "padding": null,
            "right": null,
            "top": null,
            "visibility": null,
            "width": null
          }
        },
        "3849bfae030c47c6968b19b1ee4dc5d2": {
          "model_module": "@jupyter-widgets/controls",
          "model_name": "ProgressStyleModel",
          "model_module_version": "1.5.0",
          "state": {
            "_model_module": "@jupyter-widgets/controls",
            "_model_module_version": "1.5.0",
            "_model_name": "ProgressStyleModel",
            "_view_count": null,
            "_view_module": "@jupyter-widgets/base",
            "_view_module_version": "1.2.0",
            "_view_name": "StyleView",
            "bar_color": null,
            "description_width": ""
          }
        },
        "ac643164d2a6476d9fcb5abb861cdf01": {
          "model_module": "@jupyter-widgets/base",
          "model_name": "LayoutModel",
          "model_module_version": "1.2.0",
          "state": {
            "_model_module": "@jupyter-widgets/base",
            "_model_module_version": "1.2.0",
            "_model_name": "LayoutModel",
            "_view_count": null,
            "_view_module": "@jupyter-widgets/base",
            "_view_module_version": "1.2.0",
            "_view_name": "LayoutView",
            "align_content": null,
            "align_items": null,
            "align_self": null,
            "border": null,
            "bottom": null,
            "display": null,
            "flex": null,
            "flex_flow": null,
            "grid_area": null,
            "grid_auto_columns": null,
            "grid_auto_flow": null,
            "grid_auto_rows": null,
            "grid_column": null,
            "grid_gap": null,
            "grid_row": null,
            "grid_template_areas": null,
            "grid_template_columns": null,
            "grid_template_rows": null,
            "height": null,
            "justify_content": null,
            "justify_items": null,
            "left": null,
            "margin": null,
            "max_height": null,
            "max_width": null,
            "min_height": null,
            "min_width": null,
            "object_fit": null,
            "object_position": null,
            "order": null,
            "overflow": null,
            "overflow_x": null,
            "overflow_y": null,
            "padding": null,
            "right": null,
            "top": null,
            "visibility": null,
            "width": null
          }
        },
        "62b25063353f42e3a9b864b0a1590dc9": {
          "model_module": "@jupyter-widgets/controls",
          "model_name": "DescriptionStyleModel",
          "model_module_version": "1.5.0",
          "state": {
            "_model_module": "@jupyter-widgets/controls",
            "_model_module_version": "1.5.0",
            "_model_name": "DescriptionStyleModel",
            "_view_count": null,
            "_view_module": "@jupyter-widgets/base",
            "_view_module_version": "1.2.0",
            "_view_name": "StyleView",
            "description_width": ""
          }
        }
      }
    },
    "accelerator": "GPU"
  },
  "nbformat": 4,
  "nbformat_minor": 5
}
