{
  "cells": [
    {
      "cell_type": "markdown",
      "source": [
        "# Required Imports"
      ],
      "metadata": {
        "id": "frVIGQFCj85Q"
      },
      "id": "frVIGQFCj85Q"
    },
    {
      "cell_type": "code",
      "source": [
        "# ! pip install datasets"
      ],
      "metadata": {
        "id": "IDoaOfOI8Tf5"
      },
      "id": "IDoaOfOI8Tf5",
      "execution_count": null,
      "outputs": []
    },
    {
      "cell_type": "code",
      "execution_count": 30,
      "metadata": {
        "id": "7f9c64fb"
      },
      "outputs": [],
      "source": [
        "from typing import Dict, List\n",
        "\n",
        "import matplotlib.pyplot as plt\n",
        "import numpy as np\n",
        "import pandas as pd\n",
        "import seaborn as sns\n",
        "import torch\n",
        "\n",
        "from datasets import load_dataset\n",
        "from nltk.tokenize import ToktokTokenizer\n",
        "from sklearn.metrics import f1_score, confusion_matrix, classification_report\n",
        "from torch import nn\n",
        "from torch.utils.data import DataLoader\n",
        "from tqdm.auto import tqdm\n",
        "from string import punctuation"
      ],
      "id": "7f9c64fb"
    },
    {
      "cell_type": "code",
      "source": [
        "device = torch.device(\"cuda\" if torch.cuda.is_available() else \"cpu\") "
      ],
      "metadata": {
        "id": "rO4Iw3_7wN4w"
      },
      "id": "rO4Iw3_7wN4w",
      "execution_count": 3,
      "outputs": []
    },
    {
      "cell_type": "markdown",
      "source": [
        "Загружаем FastText эмбеддинги для английского:\n"
      ],
      "metadata": {
        "id": "Slu354vxlJNA"
      },
      "id": "Slu354vxlJNA"
    },
    {
      "cell_type": "code",
      "execution_count": null,
      "metadata": {
        "id": "s1z17nD-h57p"
      },
      "outputs": [],
      "source": [
        "# !wget https://dl.fbaipublicfiles.com/fasttext/vectors-wiki/wiki.en.vec"
      ],
      "id": "s1z17nD-h57p"
    },
    {
      "cell_type": "code",
      "execution_count": null,
      "metadata": {
        "id": "cFsUYGKPivlg"
      },
      "outputs": [],
      "source": [
        "# !tail -n 2 wiki.en.vec"
      ],
      "id": "cFsUYGKPivlg"
    },
    {
      "cell_type": "markdown",
      "metadata": {
        "id": "102d7074"
      },
      "source": [
        "# Описание задачи"
      ],
      "id": "102d7074"
    },
    {
      "cell_type": "markdown",
      "metadata": {
        "id": "46d972fe"
      },
      "source": [
        "Классификация твиттов по тональности\n",
        "<br>\n",
        "Классы:  \n",
        "\n",
        "Индекс | Sentiment  \n",
        "-- | --  \n",
        "0 | negative  \n",
        "1 | neutral  \n",
        "2 | positive  "
      ],
      "id": "46d972fe"
    },
    {
      "cell_type": "markdown",
      "source": [
        "# 1. Создание матрицы эмбеддингов"
      ],
      "metadata": {
        "id": "opgTM_iQmG0a"
      },
      "id": "opgTM_iQmG0a"
    },
    {
      "cell_type": "markdown",
      "source": [
        "Функция для представления эмбеддингов из *vec файла в формате матрицы с индексами токенов"
      ],
      "metadata": {
        "id": "G0uUsamjmYTb"
      },
      "id": "G0uUsamjmYTb"
    },
    {
      "cell_type": "code",
      "execution_count": 6,
      "metadata": {
        "id": "e15a9f7c"
      },
      "outputs": [],
      "source": [
        "def load_embeddings(path, num_tokens=100_000):\n",
        "    \"\"\" Представление эмбеддингов в формате матрицы \"\"\"\n",
        "\n",
        "    token2index = dict()\n",
        "    embeddings_matrix = list()\n",
        "\n",
        "    with open(path) as file_object:\n",
        "      vocab_size, embedding_dim = file_object.readline().strip().split()\n",
        "\n",
        "      vocab_size = int(vocab_size)\n",
        "      embedding_dim = int(embedding_dim)\n",
        "\n",
        "      num_tokens = vocab_size if num_tokens <= 0 else num_tokens\n",
        "\n",
        "      token2index['PAD'] = 0\n",
        "      embeddings_matrix.append(np.zeros(embedding_dim))\n",
        "\n",
        "      token2index['UNK'] = 1\n",
        "      embeddings_matrix.append(np.ones(embedding_dim))\n",
        "\n",
        "      for line in tqdm(file_object, total=num_tokens, desc='Loading Embeddings'):\n",
        "          parts = line.strip().split()\n",
        "          token = ' '.join(parts[:-embedding_dim]).lower()\n",
        "          if token in token2index:\n",
        "              continue\n",
        "          word_vector = np.array(list(map(float, parts[-embedding_dim:])))\n",
        "          token2index[token] = len(token2index)\n",
        "          embeddings_matrix.append(word_vector)\n",
        "          if len(token2index) == num_tokens:\n",
        "              break\n",
        "\n",
        "    embeddings_matrix: np.array = np.array(embeddings_matrix)\n",
        "    \n",
        "    assert(len(token2index) == embeddings_matrix.shape[0])\n",
        "    \n",
        "    return token2index, embeddings_matrix"
      ],
      "id": "e15a9f7c"
    },
    {
      "cell_type": "markdown",
      "source": [
        "Создаем словарь с индексами токенов и матрицу эмбеддингов"
      ],
      "metadata": {
        "id": "RAlTpVAvoFi0"
      },
      "id": "RAlTpVAvoFi0"
    },
    {
      "cell_type": "code",
      "execution_count": 7,
      "metadata": {
        "id": "h3bfCZTEjvNO",
        "colab": {
          "base_uri": "https://localhost:8080/",
          "height": 49,
          "referenced_widgets": [
            "c3a785787fe74bcabe966ad105c63269",
            "a06508f1cf804487a4b29b4f0c0dbd0e",
            "3519fcf09ade4c62915b9d3877602c59",
            "28a19d8f6eac4a20a8f78c477bdf7d36",
            "d675e3cc00c74c78a878c65f9775068a",
            "c039373d093849e9943bf254089279ec",
            "e7cfed3bebb44ea89d3fb87a7bbfd274",
            "0df93cf08ea84e8493626b6699a8eded",
            "c78bab63a3644ec38559d4137fbb69e4",
            "675ff81749c44e67baf67752005c97ed",
            "1c9a0d0766a144648e1f5c426dd7ecf8"
          ]
        },
        "outputId": "83cfd9ed-e7de-46f4-80d0-e5e04d84ad23"
      },
      "outputs": [
        {
          "output_type": "display_data",
          "data": {
            "text/plain": [
              "Loading Embeddings:   0%|          | 0/100000 [00:00<?, ?it/s]"
            ],
            "application/vnd.jupyter.widget-view+json": {
              "version_major": 2,
              "version_minor": 0,
              "model_id": "c3a785787fe74bcabe966ad105c63269"
            }
          },
          "metadata": {}
        }
      ],
      "source": [
        "token2index, embeddings_matrix = load_embeddings('wiki.en.vec')"
      ],
      "id": "h3bfCZTEjvNO"
    },
    {
      "cell_type": "code",
      "source": [
        "token2index['hello'] # индекс для токена 'hello'"
      ],
      "metadata": {
        "colab": {
          "base_uri": "https://localhost:8080/"
        },
        "id": "P04Q5fei4nt_",
        "outputId": "950b2fb7-3d99-45be-95c8-ddcc2a8d7e63"
      },
      "id": "P04Q5fei4nt_",
      "execution_count": 8,
      "outputs": [
        {
          "output_type": "execute_result",
          "data": {
            "text/plain": [
              "4857"
            ]
          },
          "metadata": {},
          "execution_count": 8
        }
      ]
    },
    {
      "cell_type": "markdown",
      "metadata": {
        "id": "c46b2b68"
      },
      "source": [
        "## 2. Загрузка данных для обучени, приведение в подходящий для Torch формат"
      ],
      "id": "c46b2b68"
    },
    {
      "cell_type": "markdown",
      "source": [
        "Загрузка датасета tweet_eval/sentiment с помощью функции load_dataset:"
      ],
      "metadata": {
        "id": "WmKFA5WmpyAA"
      },
      "id": "WmKFA5WmpyAA"
    },
    {
      "cell_type": "code",
      "execution_count": null,
      "metadata": {
        "id": "e54fdaa8"
      },
      "outputs": [],
      "source": [
        "dataset_path = \"tweet_eval\"\n",
        "dataset_name = \"sentiment\"\n",
        "\n",
        "train_dataset = load_dataset(path=dataset_path, name=dataset_name, split=\"train\")\n",
        "valid_dataset = load_dataset(path=dataset_path, name=dataset_name, split=\"validation\")\n",
        "test_dataset = load_dataset(path=dataset_path, name=dataset_name, split=\"test\")"
      ],
      "id": "e54fdaa8"
    },
    {
      "cell_type": "code",
      "execution_count": 10,
      "metadata": {
        "id": "a5wqiaAXxrVm"
      },
      "outputs": [],
      "source": [
        "tokenizer = ToktokTokenizer()"
      ],
      "id": "a5wqiaAXxrVm"
    },
    {
      "cell_type": "markdown",
      "source": [
        "Средняя длина текстов в тренировочном сете:"
      ],
      "metadata": {
        "id": "m77Wz6Urr6hN"
      },
      "id": "m77Wz6Urr6hN"
    },
    {
      "cell_type": "code",
      "execution_count": null,
      "metadata": {
        "id": "YHCzfn_WxkUa"
      },
      "outputs": [],
      "source": [
        "lengths = [len(tokenizer.tokenize(t['text'])) for t in tqdm(train_dataset)]"
      ],
      "id": "YHCzfn_WxkUa"
    },
    {
      "cell_type": "code",
      "execution_count": null,
      "metadata": {
        "colab": {
          "base_uri": "https://localhost:8080/"
        },
        "id": "I7Y1wLjDyMZN",
        "outputId": "d253ae55-16e4-4b71-8a73-86ed97754061"
      },
      "outputs": [
        {
          "output_type": "execute_result",
          "data": {
            "text/plain": [
              "34.0"
            ]
          },
          "metadata": {},
          "execution_count": 292
        }
      ],
      "source": [
        "np.percentile(lengths, 97) # 97% текстов не больше 34 токенов"
      ],
      "id": "I7Y1wLjDyMZN"
    },
    {
      "cell_type": "markdown",
      "source": [
        "Класс Tokenizer для представления текстов твиттов в формате тензоров с индеками токенов"
      ],
      "metadata": {
        "id": "bqLiLRous4wc"
      },
      "id": "bqLiLRous4wc"
    },
    {
      "cell_type": "code",
      "execution_count": 48,
      "metadata": {
        "id": "3b9ddcca"
      },
      "outputs": [],
      "source": [
        "class Tokenizer:\n",
        "    \n",
        "    def __init__(self, base_tokenizer, token2index, max_length=32):\n",
        "        \n",
        "        self._base_tokenizer = base_tokenizer\n",
        "        \n",
        "        self.token2index = token2index  # словарь из load_embeddings()\n",
        "        \n",
        "        self.pad_token = 'PAD'\n",
        "        self.pad_index = self.token2index[self.pad_token]\n",
        "        \n",
        "        self.unk_token = 'UNK'\n",
        "        self.unk_index = self.token2index[self.unk_token]\n",
        "        \n",
        "        self.max_length = max_length\n",
        "\n",
        "    def tokenize(self, text):\n",
        "\n",
        "        tokens = self._base_tokenizer.tokenize(text)\n",
        "        return tokens\n",
        "    \n",
        "    def indexing(self, tokenized_text):\n",
        "        \"\"\"\n",
        "        Tokens to indexes\n",
        "        \"\"\"\n",
        "        indexed_text = [token2index[t] if t in token2index else self.unk_index \n",
        "                        for t in tokenized_text]\n",
        "        return indexed_text\n",
        "        \n",
        "    def padding(self, tokens_indices):\n",
        "        \"\"\"\n",
        "        Adding pad tokens\n",
        "        \"\"\"\n",
        "        if len(tokens_indices) > self.max_length:\n",
        "          tokens_indices = tokens_indices[:self.max_length]\n",
        "        elif len(tokens_indices) < self.max_length:\n",
        "          padding_size = self.max_length - len(tokens_indices)\n",
        "          tokens_indices.extend([self.pad_index] * padding_size)\n",
        "\n",
        "        return tokens_indices\n",
        "    \n",
        "    def __call__(self, text):\n",
        "        return self.padding(self.indexing(self.tokenize(text)))\n",
        "        \n",
        "    def collate(self, batch):\n",
        "        \n",
        "        tokenized_texts = list()\n",
        "        labels = list()\n",
        "        \n",
        "        for sample in batch:\n",
        "            tokenized_texts.append(self(sample['text']))\n",
        "            labels.append(sample['label'])\n",
        "            \n",
        "        tokenized_texts = torch.LongTensor(tokenized_texts)\n",
        "        labels = torch.LongTensor(labels)\n",
        "        \n",
        "        return tokenized_texts, labels"
      ],
      "id": "3b9ddcca"
    },
    {
      "cell_type": "code",
      "execution_count": 75,
      "metadata": {
        "id": "zIza5dkatL4v"
      },
      "outputs": [],
      "source": [
        "tokenizer = Tokenizer(\n",
        "              base_tokenizer=ToktokTokenizer(),\n",
        "              token2index=token2index,\n",
        "              max_length=30\n",
        ")"
      ],
      "id": "zIza5dkatL4v"
    },
    {
      "cell_type": "code",
      "execution_count": 76,
      "metadata": {
        "id": "40268f8c"
      },
      "outputs": [],
      "source": [
        "train_loader = DataLoader(train_dataset, batch_size=128, shuffle=True, collate_fn=tokenizer.collate)\n",
        "valid_loader = DataLoader(valid_dataset, batch_size=128, shuffle=True, collate_fn=tokenizer.collate)\n",
        "test_loader = DataLoader(test_dataset, batch_size=128, shuffle=True, collate_fn=tokenizer.collate)"
      ],
      "id": "40268f8c"
    },
    {
      "cell_type": "code",
      "execution_count": 77,
      "metadata": {
        "id": "d293b759"
      },
      "outputs": [],
      "source": [
        "for x, y in train_loader:\n",
        "    break"
      ],
      "id": "d293b759"
    },
    {
      "cell_type": "markdown",
      "source": [
        "Проверка"
      ],
      "metadata": {
        "id": "se8hwbREtU6G"
      },
      "id": "se8hwbREtU6G"
    },
    {
      "cell_type": "code",
      "execution_count": 78,
      "metadata": {
        "id": "87752ad7"
      },
      "outputs": [],
      "source": [
        "assert(isinstance(x, torch.Tensor))\n",
        "assert(len(x.size()) == 2)\n",
        "\n",
        "assert(isinstance(y, torch.Tensor))\n",
        "assert(len(y.size()) == 1)"
      ],
      "id": "87752ad7"
    },
    {
      "cell_type": "markdown",
      "source": [
        "# 4. Выбор метрики "
      ],
      "metadata": {
        "id": "aCOh5pSmv3Ut"
      },
      "id": "aCOh5pSmv3Ut"
    },
    {
      "cell_type": "markdown",
      "source": [
        "Метрика Accuracy не подойдет для данной задачи, т.к. классы несбалансированы:"
      ],
      "metadata": {
        "id": "K1fsAOYlv6Im"
      },
      "id": "K1fsAOYlv6Im"
    },
    {
      "cell_type": "code",
      "source": [
        "df = pd.DataFrame.from_records(train_dataset)\n",
        "df['label'].value_counts().plot(kind=\"bar\")\n",
        "plt.show()"
      ],
      "metadata": {
        "colab": {
          "base_uri": "https://localhost:8080/",
          "height": 262
        },
        "id": "sGAUxBXS-9Ye",
        "outputId": "3a4c76f0-e638-43c2-aa1e-00b5524ae7b9"
      },
      "id": "sGAUxBXS-9Ye",
      "execution_count": 79,
      "outputs": [
        {
          "output_type": "display_data",
          "data": {
            "text/plain": [
              "<Figure size 432x288 with 1 Axes>"
            ],
            "image/png": "[encoded data removed]"
          },
          "metadata": {
            "needs_background": "light"
          }
        }
      ]
    },
    {
      "cell_type": "markdown",
      "source": [
        "Для данной задачи я выбрала метрику **macro-F1-score**. Эта метрика хорошо подходит для задач классификации с дисбалансом классов, где нам важно равносильно учитывать качество всех представленных классов. "
      ],
      "metadata": {
        "id": "BLouWHSp_Wrd"
      },
      "id": "BLouWHSp_Wrd"
    },
    {
      "cell_type": "markdown",
      "metadata": {
        "id": "dbc96104"
      },
      "source": [
        "# 5. Реализация модели Deep Average Network\n",
        "\n"
      ],
      "id": "dbc96104"
    },
    {
      "cell_type": "code",
      "source": [
        "class DeepAverageNetwork(nn.Module):\n",
        "    \"\"\"\n",
        "    Deep Average Network Class\n",
        "    \"\"\"\n",
        "    def __init__(self, embeddings_maxtrix, in_features=300, inner_features=300, out_features = 3):\n",
        "        \n",
        "        super().__init__()\n",
        "\n",
        "        self.embedding_layer = nn.Embedding(len(embeddings_maxtrix), \n",
        "                               embeddings_maxtrix.shape[-1]).from_pretrained(embeddings_maxtrix, freeze=False)\n",
        "        self.dropout1 = nn.Dropout(0.3)\n",
        "        self.linear1 = nn.Linear(in_features, inner_features)\n",
        "        self.batch_norm = nn.BatchNorm1d(inner_features)\n",
        "        self.relu = nn.ReLU()\n",
        "        \n",
        "        self.dropout2 = nn.Dropout(0.5)\n",
        "        self.linear2 = nn.Linear(inner_features, out_features)\n",
        "        self.batch_norm2 = nn.BatchNorm1d(out_features)\n",
        "        self.softmax = nn.Softmax(1)\n",
        "\n",
        "    def forward(self, x):\n",
        "        x = self.embedding_layer(x)\n",
        "        # рандомно отбрасываем эмбеддинги для 30% токенов перед усреднением\n",
        "        # если я правильно поняла, в статье про DAN использовался такой подход\n",
        "        x = self.dropout1(x) \n",
        "        x = torch.mean(x, dim=1).float() # усредняем эмбеддинги\n",
        "        x = self.linear1(x)\n",
        "        x = self.relu(self.batch_norm(x)) \n",
        "        x = self.dropout2(x)\n",
        "        x = self.linear2(x)\n",
        "        x = self.softmax(self.batch_norm2(x))\n",
        "        \n",
        "        return x"
      ],
      "metadata": {
        "id": "HAp4rblCv9l5"
      },
      "id": "HAp4rblCv9l5",
      "execution_count": 109,
      "outputs": []
    },
    {
      "cell_type": "code",
      "source": [
        "model = DeepAverageNetwork(embeddings_maxtrix=torch.Tensor(embeddings_matrix))"
      ],
      "metadata": {
        "id": "ddrgpnZ3xv8B"
      },
      "id": "ddrgpnZ3xv8B",
      "execution_count": 110,
      "outputs": []
    },
    {
      "cell_type": "code",
      "source": [
        "model = model.to(device)"
      ],
      "metadata": {
        "id": "bspxiU91DQsG"
      },
      "id": "bspxiU91DQsG",
      "execution_count": 111,
      "outputs": []
    },
    {
      "cell_type": "code",
      "source": [
        "criterion = torch.nn.CrossEntropyLoss().to(device)"
      ],
      "metadata": {
        "id": "F5OubxqnxaUl"
      },
      "id": "F5OubxqnxaUl",
      "execution_count": 112,
      "outputs": []
    },
    {
      "cell_type": "code",
      "source": [
        "optimizer = torch.optim.Adam(model.parameters(), lr=0.01)"
      ],
      "metadata": {
        "id": "gUQPr9IOxqJk"
      },
      "id": "gUQPr9IOxqJk",
      "execution_count": 113,
      "outputs": []
    },
    {
      "cell_type": "markdown",
      "source": [
        "# 6. Обучение"
      ],
      "metadata": {
        "id": "MscmLJN8Q7Is"
      },
      "id": "MscmLJN8Q7Is"
    },
    {
      "cell_type": "code",
      "source": [
        "epochs = 10\n",
        "losses = []\n",
        "# нужно для early stopping, то есть трекать лучший лосс на валидации\n",
        "best_test_loss = 10.\n",
        "valid_preds_final = {'preds': [], 'targets': []}\n",
        "\n",
        "for n_epoch in range(epochs):\n",
        "    \n",
        "    train_losses = [] # train losses for current epoch\n",
        "    test_losses = [] # test losses for current epoch\n",
        "    test_preds = [] # predictions to evaluate the model on current epoch\n",
        "    test_targets = [] \n",
        "    \n",
        "    progress_bar = tqdm(total=len(train_loader.dataset), desc='Epoch {}'.format(n_epoch + 1))\n",
        "    \n",
        "    for x, y in train_loader:\n",
        "        \n",
        "        optimizer.zero_grad()\n",
        "        \n",
        "        pred = model(x.to(device))\n",
        "        \n",
        "        loss = criterion(pred, y.to(device))\n",
        "        \n",
        "        loss.backward()\n",
        "        \n",
        "        optimizer.step()\n",
        "        \n",
        "        train_losses.append(loss.item())\n",
        "        losses.append(loss.item())\n",
        "        \n",
        "        progress_bar.set_postfix(train_loss = np.mean(losses[-100:]))\n",
        "\n",
        "        progress_bar.update(x.shape[0])\n",
        "        \n",
        "    progress_bar.close()\n",
        "    \n",
        "    for x, y in valid_loader:\n",
        "\n",
        "        with torch.no_grad():\n",
        "            \n",
        "            pred = model(x.to(device))\n",
        "            \n",
        "        test_preds.append(pred.to('cpu').numpy()) # batch predictions\n",
        "        test_targets.append(y.to('cpu').numpy())\n",
        "\n",
        "        loss = criterion(pred, y.to(device)) # batch loss\n",
        "\n",
        "        test_losses.append(loss.item())\n",
        "        \n",
        "    mean_test_loss = np.mean(test_losses)\n",
        "        \n",
        "    print('Losses: train - {:.3f}, validation = {:.3f}'.format(np.mean(train_losses), mean_test_loss))\n",
        "    \n",
        "    test_preds = np.concatenate(test_preds)\n",
        "    test_preds = test_preds.squeeze()\n",
        "    test_targets = np.concatenate(test_targets).squeeze()\n",
        "    \n",
        "    test_preds = test_preds.argmax(1).tolist() \n",
        "\n",
        "    valid_preds_final['preds'] = test_preds\n",
        "    valid_preds_final['targets'] = test_targets\n",
        "\n",
        "    f_score = f1_score(test_targets, test_preds, average='macro')\n",
        "\n",
        "    print('Validation: macro f1 - {:.3f}'.format(f_score))\n",
        "        \n",
        "    # early stopping\n",
        "    if mean_test_loss < best_test_loss:\n",
        "        best_test_loss = mean_test_loss\n",
        "    else:\n",
        "        print('Early stopping')\n",
        "        break    "
      ],
      "metadata": {
        "colab": {
          "base_uri": "https://localhost:8080/",
          "height": 235,
          "referenced_widgets": [
            "08c876ab478d46999fa14a69434d6473",
            "f037300b3a774ff7b0c3e2ca9d2a5472",
            "d52bb82b72f141b3a657a4bafa4171fa",
            "65694c33581f40869da2af1ed751734c",
            "31e774c36a2f4ada92328126acb1419b",
            "e89da55618d04088a39359a564bd3e8a",
            "d716c26955d3417d94062d89df177faf",
            "48a73342cd4342f18442910075ebaea8",
            "58d0aa6cf85d44e988d7daf89c58cceb",
            "820822946291453baa553669ad0b4f85",
            "264a058e57714dfa9d59996676b36d3a",
            "50b2542a3c764ce98a49441d6937e80b",
            "6153ad551bd34d73bcd259379c78dd6e",
            "acb4a7b0e1574c678f87c3bf732ef110",
            "07ae3a2a7db14c138859f4085bf4bbfc",
            "f1f27ec6b5b645f68f6cbb6ffe9d1403",
            "ffc4ec4b36d940449e2c9c9a71acc5e6",
            "c2748e29ff8949799e90c4fd687cb75b",
            "be009ad10d0f4c3399de98ecf4b6089d",
            "057aefcfbaae47d4acc13717e9e8b5a4",
            "e72fd836c77148208588c3ae5a757863",
            "d084b2928aa34d24892286782dd0d2ea",
            "47306e13337f4663a7032f34041b1290",
            "3796e1d4f52a49a1bf282da26f0dedbb",
            "bb39057685794ede8430b9b6d17a2f88",
            "a33225ec5983471d8bbd8b60480f3c9f",
            "28450c81ddcf42b2b077f5adc82d35a2",
            "49e79ea36be64ea0a59b8e049a4a8a47",
            "9f7fb740e4ec4c3e89bdd55e4ef45980",
            "c25ff062726b4319b1e1ab2ead91f91e",
            "45cb9fc8b4aa4a1d9b62606ab81a6bc2",
            "6d32f284edbf411b836ea341f0ed505d",
            "864880cc366a44eb91b40f9984b8d5b6"
          ]
        },
        "id": "l6647Tk47bUf",
        "outputId": "7414663e-43ac-4af7-bf21-2c69ffe9f274"
      },
      "id": "l6647Tk47bUf",
      "execution_count": 114,
      "outputs": [
        {
          "output_type": "display_data",
          "data": {
            "text/plain": [
              "Epoch 1:   0%|          | 0/45615 [00:00<?, ?it/s]"
            ],
            "application/vnd.jupyter.widget-view+json": {
              "version_major": 2,
              "version_minor": 0,
              "model_id": "08c876ab478d46999fa14a69434d6473"
            }
          },
          "metadata": {}
        },
        {
          "output_type": "stream",
          "name": "stdout",
          "text": [
            "Losses: train - 0.956, validation = 0.920\n",
            "Validation: macro f1 - 0.548\n"
          ]
        },
        {
          "output_type": "display_data",
          "data": {
            "text/plain": [
              "Epoch 2:   0%|          | 0/45615 [00:00<?, ?it/s]"
            ],
            "application/vnd.jupyter.widget-view+json": {
              "version_major": 2,
              "version_minor": 0,
              "model_id": "50b2542a3c764ce98a49441d6937e80b"
            }
          },
          "metadata": {}
        },
        {
          "output_type": "stream",
          "name": "stdout",
          "text": [
            "Losses: train - 0.875, validation = 0.914\n",
            "Validation: macro f1 - 0.568\n"
          ]
        },
        {
          "output_type": "display_data",
          "data": {
            "text/plain": [
              "Epoch 3:   0%|          | 0/45615 [00:00<?, ?it/s]"
            ],
            "application/vnd.jupyter.widget-view+json": {
              "version_major": 2,
              "version_minor": 0,
              "model_id": "47306e13337f4663a7032f34041b1290"
            }
          },
          "metadata": {}
        },
        {
          "output_type": "stream",
          "name": "stdout",
          "text": [
            "Losses: train - 0.835, validation = 0.915\n",
            "Validation: macro f1 - 0.573\n",
            "Early stopping\n"
          ]
        }
      ]
    },
    {
      "cell_type": "markdown",
      "source": [
        "# 7. Анализ качества модели"
      ],
      "metadata": {
        "id": "UUCyHwW9q9sO"
      },
      "id": "UUCyHwW9q9sO"
    },
    {
      "cell_type": "markdown",
      "source": [
        "На Classification report видно, что хуже всего модель распознает класс '0' (негативные твитты). В обучающем датасете для этого класса было меньше всего примеров. Нейтральные и позитивные твитты модель распознает с более лучшим качеством, однако в целом качество модели нельзя назвать удовлетворительным."
      ],
      "metadata": {
        "id": "ZyU0d8ikxllE"
      },
      "id": "ZyU0d8ikxllE"
    },
    {
      "cell_type": "code",
      "source": [
        "print(classification_report(valid_preds_final['targets'], valid_preds_final['preds']))"
      ],
      "metadata": {
        "colab": {
          "base_uri": "https://localhost:8080/"
        },
        "id": "Q66M1FGCvpoT",
        "outputId": "bd60477f-5d84-43b4-fac1-f823eccbfe6b"
      },
      "id": "Q66M1FGCvpoT",
      "execution_count": 115,
      "outputs": [
        {
          "output_type": "stream",
          "name": "stdout",
          "text": [
            "              precision    recall  f1-score   support\n",
            "\n",
            "           0       0.53      0.35      0.42       312\n",
            "           1       0.60      0.69      0.64       869\n",
            "           2       0.66      0.64      0.65       819\n",
            "\n",
            "    accuracy                           0.62      2000\n",
            "   macro avg       0.60      0.56      0.57      2000\n",
            "weighted avg       0.61      0.62      0.61      2000\n",
            "\n"
          ]
        }
      ]
    },
    {
      "cell_type": "markdown",
      "source": [
        "Матрица ошибок:"
      ],
      "metadata": {
        "id": "J4PbqQt03D82"
      },
      "id": "J4PbqQt03D82"
    },
    {
      "cell_type": "code",
      "source": [
        "import seaborn as sns\n",
        "from sklearn.metrics import confusion_matrix\n",
        "\n",
        "fig, ax = plt.subplots(figsize=(7,7))  \n",
        "\n",
        "cf_matrix = confusion_matrix(valid_preds_final['targets'], valid_preds_final['preds'])\n",
        "classes = [0, 1, 2]\n",
        "\n",
        "s = sns.heatmap(cf_matrix, annot=True, ax=ax, fmt='g', cmap='Blues', xticklabels=classes, yticklabels=classes)\n",
        "s.set(xlabel='PREDICTED', ylabel='TRUE')"
      ],
      "metadata": {
        "colab": {
          "base_uri": "https://localhost:8080/",
          "height": 463
        },
        "id": "t-bdjEtEyep4",
        "outputId": "1974dcdb-fc73-4c09-b27b-f57bab41fabd"
      },
      "id": "t-bdjEtEyep4",
      "execution_count": 116,
      "outputs": [
        {
          "output_type": "execute_result",
          "data": {
            "text/plain": [
              "[Text(42.0, 0.5, 'TRUE'), Text(0.5, 42.0, 'PREDICTED')]"
            ]
          },
          "metadata": {},
          "execution_count": 116
        },
        {
          "output_type": "display_data",
          "data": {
            "text/plain": [
              "<Figure size 504x504 with 2 Axes>"
            ],
            "image/png": "[encoded data removed]"
          },
          "metadata": {
            "needs_background": "light"
          }
        }
      ]
    },
    {
      "cell_type": "markdown",
      "source": [
        "Оценим качество модели на тестовой выборке"
      ],
      "metadata": {
        "id": "jGMQ2psi3LgP"
      },
      "id": "jGMQ2psi3LgP"
    },
    {
      "cell_type": "code",
      "source": [
        "def get_preds(loader, model):\n",
        "  test_preds = []\n",
        "  test_targets = []\n",
        "  for x, y in loader:\n",
        "        with torch.no_grad():\n",
        "            pred = model(x.to(device))\n",
        "        test_preds.append(pred.to('cpu').numpy()) # batch predictions\n",
        "        test_targets.append(y.to('cpu').numpy())\n",
        "                \n",
        "  test_preds = np.concatenate(test_preds)\n",
        "  test_preds = test_preds.squeeze()\n",
        "  test_targets = np.concatenate(test_targets).squeeze()\n",
        "  \n",
        "  test_preds = test_preds.argmax(1).tolist() \n",
        "\n",
        "  return {'preds': test_preds, 'targets': test_targets}"
      ],
      "metadata": {
        "id": "w4ttDSZqq_Eh"
      },
      "id": "w4ttDSZqq_Eh",
      "execution_count": 117,
      "outputs": []
    },
    {
      "cell_type": "code",
      "source": [
        "test_predictions = get_preds(test_loader, model) # предсказания модели на тестовой выборке"
      ],
      "metadata": {
        "id": "O6sWRrXPwIcz"
      },
      "id": "O6sWRrXPwIcz",
      "execution_count": 118,
      "outputs": []
    },
    {
      "cell_type": "markdown",
      "source": [
        "Видим, что качество на тестовой выборке хуже, чем на валидации (что ожидаемо):"
      ],
      "metadata": {
        "id": "R_B95GPA-gMt"
      },
      "id": "R_B95GPA-gMt"
    },
    {
      "cell_type": "code",
      "source": [
        "print(classification_report(test_predictions['targets'], test_predictions['preds']))"
      ],
      "metadata": {
        "colab": {
          "base_uri": "https://localhost:8080/"
        },
        "id": "pWSuAox_3fQ_",
        "outputId": "b85153a6-cae6-4aa9-b800-4ca4d11bec3e"
      },
      "id": "pWSuAox_3fQ_",
      "execution_count": 120,
      "outputs": [
        {
          "output_type": "stream",
          "name": "stdout",
          "text": [
            "              precision    recall  f1-score   support\n",
            "\n",
            "           0       0.69      0.25      0.36      3972\n",
            "           1       0.58      0.61      0.60      5937\n",
            "           2       0.36      0.70      0.48      2375\n",
            "\n",
            "    accuracy                           0.51     12284\n",
            "   macro avg       0.55      0.52      0.48     12284\n",
            "weighted avg       0.57      0.51      0.50     12284\n",
            "\n"
          ]
        }
      ]
    },
    {
      "cell_type": "markdown",
      "metadata": {
        "id": "87583e79"
      },
      "source": [
        "# Выводы\n",
        "\n",
        "Я поняла основную идею Deep Average Network, однако построить качественную модель пока не вышло. В данной задаче присутствует дисбаланс классов, и в целом различать несколько тональностей сложнее, чем в бинарной классификации (где только positive/negative). Но как минимум в качестве бейзлайна полученная модель вполне может подойти. \n",
        "\n",
        "Как можно попробовать улучшить модель:\n",
        "<br>\n",
        "* реализовать residual connection для линейного слоя (пока не разобралась, как это делается)\n",
        "* попробовать взять эмбеддинги от transformer-модели, например, из модели [Twitter-roBERTa-base](https://huggingface.co/cardiffnlp/twitter-roberta-base) (roBERTa, дообученная на твиттах\n",
        "* возможно как-то поменять слои в модели (пробовала добавить еще один скрытый слой с ReLU, но это не особо помогло)"
      ],
      "id": "87583e79"
    }
  ],
  "metadata": {
    "colab": {
      "provenance": []
    },
    "gpuClass": "standard",
    "kernelspec": {
      "display_name": "Python 3 (ipykernel)",
      "language": "python",
      "name": "python3"
    },
    "language_info": {
      "codemirror_mode": {
        "name": "ipython",
        "version": 3
      },
      "file_extension": ".py",
      "mimetype": "text/x-python",
      "name": "python",
      "nbconvert_exporter": "python",
      "pygments_lexer": "ipython3",
      "version": "3.10.6"
    },
    "widgets": {
      "application/vnd.jupyter.widget-state+json": {
        "c3a785787fe74bcabe966ad105c63269": {
          "model_module": "@jupyter-widgets/controls",
          "model_name": "HBoxModel",
          "model_module_version": "1.5.0",
          "state": {
            "_dom_classes": [],
            "_model_module": "@jupyter-widgets/controls",
            "_model_module_version": "1.5.0",
            "_model_name": "HBoxModel",
            "_view_count": null,
            "_view_module": "@jupyter-widgets/controls",
            "_view_module_version": "1.5.0",
            "_view_name": "HBoxView",
            "box_style": "",
            "children": [
              "IPY_MODEL_a06508f1cf804487a4b29b4f0c0dbd0e",
              "IPY_MODEL_3519fcf09ade4c62915b9d3877602c59",
              "IPY_MODEL_28a19d8f6eac4a20a8f78c477bdf7d36"
            ],
            "layout": "IPY_MODEL_d675e3cc00c74c78a878c65f9775068a"
          }
        },
        "a06508f1cf804487a4b29b4f0c0dbd0e": {
          "model_module": "@jupyter-widgets/controls",
          "model_name": "HTMLModel",
          "model_module_version": "1.5.0",
          "state": {
            "_dom_classes": [],
            "_model_module": "@jupyter-widgets/controls",
            "_model_module_version": "1.5.0",
            "_model_name": "HTMLModel",
            "_view_count": null,
            "_view_module": "@jupyter-widgets/controls",
            "_view_module_version": "1.5.0",
            "_view_name": "HTMLView",
            "description": "",
            "description_tooltip": null,
            "layout": "IPY_MODEL_c039373d093849e9943bf254089279ec",
            "placeholder": "​",
            "style": "IPY_MODEL_e7cfed3bebb44ea89d3fb87a7bbfd274",
            "value": "Loading Embeddings: "
          }
        },
        "3519fcf09ade4c62915b9d3877602c59": {
          "model_module": "@jupyter-widgets/controls",
          "model_name": "FloatProgressModel",
          "model_module_version": "1.5.0",
          "state": {
            "_dom_classes": [],
            "_model_module": "@jupyter-widgets/controls",
            "_model_module_version": "1.5.0",
            "_model_name": "FloatProgressModel",
            "_view_count": null,
            "_view_module": "@jupyter-widgets/controls",
            "_view_module_version": "1.5.0",
            "_view_name": "ProgressView",
            "bar_style": "danger",
            "description": "",
            "description_tooltip": null,
            "layout": "IPY_MODEL_0df93cf08ea84e8493626b6699a8eded",
            "max": 100000,
            "min": 0,
            "orientation": "horizontal",
            "style": "IPY_MODEL_c78bab63a3644ec38559d4137fbb69e4",
            "value": 100000
          }
        },
        "28a19d8f6eac4a20a8f78c477bdf7d36": {
          "model_module": "@jupyter-widgets/controls",
          "model_name": "HTMLModel",
          "model_module_version": "1.5.0",
          "state": {
            "_dom_classes": [],
            "_model_module": "@jupyter-widgets/controls",
            "_model_module_version": "1.5.0",
            "_model_name": "HTMLModel",
            "_view_count": null,
            "_view_module": "@jupyter-widgets/controls",
            "_view_module_version": "1.5.0",
            "_view_name": "HTMLView",
            "description": "",
            "description_tooltip": null,
            "layout": "IPY_MODEL_675ff81749c44e67baf67752005c97ed",
            "placeholder": "​",
            "style": "IPY_MODEL_1c9a0d0766a144648e1f5c426dd7ecf8",
            "value": " 100002/? [00:07&lt;00:00, 13111.94it/s]"
          }
        },
        "d675e3cc00c74c78a878c65f9775068a": {
          "model_module": "@jupyter-widgets/base",
          "model_name": "LayoutModel",
          "model_module_version": "1.2.0",
          "state": {
            "_model_module": "@jupyter-widgets/base",
            "_model_module_version": "1.2.0",
            "_model_name": "LayoutModel",
            "_view_count": null,
            "_view_module": "@jupyter-widgets/base",
            "_view_module_version": "1.2.0",
            "_view_name": "LayoutView",
            "align_content": null,
            "align_items": null,
            "align_self": null,
            "border": null,
            "bottom": null,
            "display": null,
            "flex": null,
            "flex_flow": null,
            "grid_area": null,
            "grid_auto_columns": null,
            "grid_auto_flow": null,
            "grid_auto_rows": null,
            "grid_column": null,
            "grid_gap": null,
            "grid_row": null,
            "grid_template_areas": null,
            "grid_template_columns": null,
            "grid_template_rows": null,
            "height": null,
            "justify_content": null,
            "justify_items": null,
            "left": null,
            "margin": null,
            "max_height": null,
            "max_width": null,
            "min_height": null,
            "min_width": null,
            "object_fit": null,
            "object_position": null,
            "order": null,
            "overflow": null,
            "overflow_x": null,
            "overflow_y": null,
            "padding": null,
            "right": null,
            "top": null,
            "visibility": null,
            "width": null
          }
        },
        "c039373d093849e9943bf254089279ec": {
          "model_module": "@jupyter-widgets/base",
          "model_name": "LayoutModel",
          "model_module_version": "1.2.0",
          "state": {
            "_model_module": "@jupyter-widgets/base",
            "_model_module_version": "1.2.0",
            "_model_name": "LayoutModel",
            "_view_count": null,
            "_view_module": "@jupyter-widgets/base",
            "_view_module_version": "1.2.0",
            "_view_name": "LayoutView",
            "align_content": null,
            "align_items": null,
            "align_self": null,
            "border": null,
            "bottom": null,
            "display": null,
            "flex": null,
            "flex_flow": null,
            "grid_area": null,
            "grid_auto_columns": null,
            "grid_auto_flow": null,
            "grid_auto_rows": null,
            "grid_column": null,
            "grid_gap": null,
            "grid_row": null,
            "grid_template_areas": null,
            "grid_template_columns": null,
            "grid_template_rows": null,
            "height": null,
            "justify_content": null,
            "justify_items": null,
            "left": null,
            "margin": null,
            "max_height": null,
            "max_width": null,
            "min_height": null,
            "min_width": null,
            "object_fit": null,
            "object_position": null,
            "order": null,
            "overflow": null,
            "overflow_x": null,
            "overflow_y": null,
            "padding": null,
            "right": null,
            "top": null,
            "visibility": null,
            "width": null
          }
        },
        "e7cfed3bebb44ea89d3fb87a7bbfd274": {
          "model_module": "@jupyter-widgets/controls",
          "model_name": "DescriptionStyleModel",
          "model_module_version": "1.5.0",
          "state": {
            "_model_module": "@jupyter-widgets/controls",
            "_model_module_version": "1.5.0",
            "_model_name": "DescriptionStyleModel",
            "_view_count": null,
            "_view_module": "@jupyter-widgets/base",
            "_view_module_version": "1.2.0",
            "_view_name": "StyleView",
            "description_width": ""
          }
        },
        "0df93cf08ea84e8493626b6699a8eded": {
          "model_module": "@jupyter-widgets/base",
          "model_name": "LayoutModel",
          "model_module_version": "1.2.0",
          "state": {
            "_model_module": "@jupyter-widgets/base",
            "_model_module_version": "1.2.0",
            "_model_name": "LayoutModel",
            "_view_count": null,
            "_view_module": "@jupyter-widgets/base",
            "_view_module_version": "1.2.0",
            "_view_name": "LayoutView",
            "align_content": null,
            "align_items": null,
            "align_self": null,
            "border": null,
            "bottom": null,
            "display": null,
            "flex": null,
            "flex_flow": null,
            "grid_area": null,
            "grid_auto_columns": null,
            "grid_auto_flow": null,
            "grid_auto_rows": null,
            "grid_column": null,
            "grid_gap": null,
            "grid_row": null,
            "grid_template_areas": null,
            "grid_template_columns": null,
            "grid_template_rows": null,
            "height": null,
            "justify_content": null,
            "justify_items": null,
            "left": null,
            "margin": null,
            "max_height": null,
            "max_width": null,
            "min_height": null,
            "min_width": null,
            "object_fit": null,
            "object_position": null,
            "order": null,
            "overflow": null,
            "overflow_x": null,
            "overflow_y": null,
            "padding": null,
            "right": null,
            "top": null,
            "visibility": null,
            "width": null
          }
        },
        "c78bab63a3644ec38559d4137fbb69e4": {
          "model_module": "@jupyter-widgets/controls",
          "model_name": "ProgressStyleModel",
          "model_module_version": "1.5.0",
          "state": {
            "_model_module": "@jupyter-widgets/controls",
            "_model_module_version": "1.5.0",
            "_model_name": "ProgressStyleModel",
            "_view_count": null,
            "_view_module": "@jupyter-widgets/base",
            "_view_module_version": "1.2.0",
            "_view_name": "StyleView",
            "bar_color": null,
            "description_width": ""
          }
        },
        "675ff81749c44e67baf67752005c97ed": {
          "model_module": "@jupyter-widgets/base",
          "model_name": "LayoutModel",
          "model_module_version": "1.2.0",
          "state": {
            "_model_module": "@jupyter-widgets/base",
            "_model_module_version": "1.2.0",
            "_model_name": "LayoutModel",
            "_view_count": null,
            "_view_module": "@jupyter-widgets/base",
            "_view_module_version": "1.2.0",
            "_view_name": "LayoutView",
            "align_content": null,
            "align_items": null,
            "align_self": null,
            "border": null,
            "bottom": null,
            "display": null,
            "flex": null,
            "flex_flow": null,
            "grid_area": null,
            "grid_auto_columns": null,
            "grid_auto_flow": null,
            "grid_auto_rows": null,
            "grid_column": null,
            "grid_gap": null,
            "grid_row": null,
            "grid_template_areas": null,
            "grid_template_columns": null,
            "grid_template_rows": null,
            "height": null,
            "justify_content": null,
            "justify_items": null,
            "left": null,
            "margin": null,
            "max_height": null,
            "max_width": null,
            "min_height": null,
            "min_width": null,
            "object_fit": null,
            "object_position": null,
            "order": null,
            "overflow": null,
            "overflow_x": null,
            "overflow_y": null,
            "padding": null,
            "right": null,
            "top": null,
            "visibility": null,
            "width": null
          }
        },
        "1c9a0d0766a144648e1f5c426dd7ecf8": {
          "model_module": "@jupyter-widgets/controls",
          "model_name": "DescriptionStyleModel",
          "model_module_version": "1.5.0",
          "state": {
            "_model_module": "@jupyter-widgets/controls",
            "_model_module_version": "1.5.0",
            "_model_name": "DescriptionStyleModel",
            "_view_count": null,
            "_view_module": "@jupyter-widgets/base",
            "_view_module_version": "1.2.0",
            "_view_name": "StyleView",
            "description_width": ""
          }
        },
        "08c876ab478d46999fa14a69434d6473": {
          "model_module": "@jupyter-widgets/controls",
          "model_name": "HBoxModel",
          "model_module_version": "1.5.0",
          "state": {
            "_dom_classes": [],
            "_model_module": "@jupyter-widgets/controls",
            "_model_module_version": "1.5.0",
            "_model_name": "HBoxModel",
            "_view_count": null,
            "_view_module": "@jupyter-widgets/controls",
            "_view_module_version": "1.5.0",
            "_view_name": "HBoxView",
            "box_style": "",
            "children": [
              "IPY_MODEL_f037300b3a774ff7b0c3e2ca9d2a5472",
              "IPY_MODEL_d52bb82b72f141b3a657a4bafa4171fa",
              "IPY_MODEL_65694c33581f40869da2af1ed751734c"
            ],
            "layout": "IPY_MODEL_31e774c36a2f4ada92328126acb1419b"
          }
        },
        "f037300b3a774ff7b0c3e2ca9d2a5472": {
          "model_module": "@jupyter-widgets/controls",
          "model_name": "HTMLModel",
          "model_module_version": "1.5.0",
          "state": {
            "_dom_classes": [],
            "_model_module": "@jupyter-widgets/controls",
            "_model_module_version": "1.5.0",
            "_model_name": "HTMLModel",
            "_view_count": null,
            "_view_module": "@jupyter-widgets/controls",
            "_view_module_version": "1.5.0",
            "_view_name": "HTMLView",
            "description": "",
            "description_tooltip": null,
            "layout": "IPY_MODEL_e89da55618d04088a39359a564bd3e8a",
            "placeholder": "​",
            "style": "IPY_MODEL_d716c26955d3417d94062d89df177faf",
            "value": "Epoch 1: 100%"
          }
        },
        "d52bb82b72f141b3a657a4bafa4171fa": {
          "model_module": "@jupyter-widgets/controls",
          "model_name": "FloatProgressModel",
          "model_module_version": "1.5.0",
          "state": {
            "_dom_classes": [],
            "_model_module": "@jupyter-widgets/controls",
            "_model_module_version": "1.5.0",
            "_model_name": "FloatProgressModel",
            "_view_count": null,
            "_view_module": "@jupyter-widgets/controls",
            "_view_module_version": "1.5.0",
            "_view_name": "ProgressView",
            "bar_style": "success",
            "description": "",
            "description_tooltip": null,
            "layout": "IPY_MODEL_48a73342cd4342f18442910075ebaea8",
            "max": 45615,
            "min": 0,
            "orientation": "horizontal",
            "style": "IPY_MODEL_58d0aa6cf85d44e988d7daf89c58cceb",
            "value": 45615
          }
        },
        "65694c33581f40869da2af1ed751734c": {
          "model_module": "@jupyter-widgets/controls",
          "model_name": "HTMLModel",
          "model_module_version": "1.5.0",
          "state": {
            "_dom_classes": [],
            "_model_module": "@jupyter-widgets/controls",
            "_model_module_version": "1.5.0",
            "_model_name": "HTMLModel",
            "_view_count": null,
            "_view_module": "@jupyter-widgets/controls",
            "_view_module_version": "1.5.0",
            "_view_name": "HTMLView",
            "description": "",
            "description_tooltip": null,
            "layout": "IPY_MODEL_820822946291453baa553669ad0b4f85",
            "placeholder": "​",
            "style": "IPY_MODEL_264a058e57714dfa9d59996676b36d3a",
            "value": " 45615/45615 [00:13&lt;00:00, 3504.08it/s, train_loss=0.93]"
          }
        },
        "31e774c36a2f4ada92328126acb1419b": {
          "model_module": "@jupyter-widgets/base",
          "model_name": "LayoutModel",
          "model_module_version": "1.2.0",
          "state": {
            "_model_module": "@jupyter-widgets/base",
            "_model_module_version": "1.2.0",
            "_model_name": "LayoutModel",
            "_view_count": null,
            "_view_module": "@jupyter-widgets/base",
            "_view_module_version": "1.2.0",
            "_view_name": "LayoutView",
            "align_content": null,
            "align_items": null,
            "align_self": null,
            "border": null,
            "bottom": null,
            "display": null,
            "flex": null,
            "flex_flow": null,
            "grid_area": null,
            "grid_auto_columns": null,
            "grid_auto_flow": null,
            "grid_auto_rows": null,
            "grid_column": null,
            "grid_gap": null,
            "grid_row": null,
            "grid_template_areas": null,
            "grid_template_columns": null,
            "grid_template_rows": null,
            "height": null,
            "justify_content": null,
            "justify_items": null,
            "left": null,
            "margin": null,
            "max_height": null,
            "max_width": null,
            "min_height": null,
            "min_width": null,
            "object_fit": null,
            "object_position": null,
            "order": null,
            "overflow": null,
            "overflow_x": null,
            "overflow_y": null,
            "padding": null,
            "right": null,
            "top": null,
            "visibility": null,
            "width": null
          }
        },
        "e89da55618d04088a39359a564bd3e8a": {
          "model_module": "@jupyter-widgets/base",
          "model_name": "LayoutModel",
          "model_module_version": "1.2.0",
          "state": {
            "_model_module": "@jupyter-widgets/base",
            "_model_module_version": "1.2.0",
            "_model_name": "LayoutModel",
            "_view_count": null,
            "_view_module": "@jupyter-widgets/base",
            "_view_module_version": "1.2.0",
            "_view_name": "LayoutView",
            "align_content": null,
            "align_items": null,
            "align_self": null,
            "border": null,
            "bottom": null,
            "display": null,
            "flex": null,
            "flex_flow": null,
            "grid_area": null,
            "grid_auto_columns": null,
            "grid_auto_flow": null,
            "grid_auto_rows": null,
            "grid_column": null,
            "grid_gap": null,
            "grid_row": null,
            "grid_template_areas": null,
            "grid_template_columns": null,
            "grid_template_rows": null,
            "height": null,
            "justify_content": null,
            "justify_items": null,
            "left": null,
            "margin": null,
            "max_height": null,
            "max_width": null,
            "min_height": null,
            "min_width": null,
            "object_fit": null,
            "object_position": null,
            "order": null,
            "overflow": null,
            "overflow_x": null,
            "overflow_y": null,
            "padding": null,
            "right": null,
            "top": null,
            "visibility": null,
            "width": null
          }
        },
        "d716c26955d3417d94062d89df177faf": {
          "model_module": "@jupyter-widgets/controls",
          "model_name": "DescriptionStyleModel",
          "model_module_version": "1.5.0",
          "state": {
            "_model_module": "@jupyter-widgets/controls",
            "_model_module_version": "1.5.0",
            "_model_name": "DescriptionStyleModel",
            "_view_count": null,
            "_view_module": "@jupyter-widgets/base",
            "_view_module_version": "1.2.0",
            "_view_name": "StyleView",
            "description_width": ""
          }
        },
        "48a73342cd4342f18442910075ebaea8": {
          "model_module": "@jupyter-widgets/base",
          "model_name": "LayoutModel",
          "model_module_version": "1.2.0",
          "state": {
            "_model_module": "@jupyter-widgets/base",
            "_model_module_version": "1.2.0",
            "_model_name": "LayoutModel",
            "_view_count": null,
            "_view_module": "@jupyter-widgets/base",
            "_view_module_version": "1.2.0",
            "_view_name": "LayoutView",
            "align_content": null,
            "align_items": null,
            "align_self": null,
            "border": null,
            "bottom": null,
            "display": null,
            "flex": null,
            "flex_flow": null,
            "grid_area": null,
            "grid_auto_columns": null,
            "grid_auto_flow": null,
            "grid_auto_rows": null,
            "grid_column": null,
            "grid_gap": null,
            "grid_row": null,
            "grid_template_areas": null,
            "grid_template_columns": null,
            "grid_template_rows": null,
            "height": null,
            "justify_content": null,
            "justify_items": null,
            "left": null,
            "margin": null,
            "max_height": null,
            "max_width": null,
            "min_height": null,
            "min_width": null,
            "object_fit": null,
            "object_position": null,
            "order": null,
            "overflow": null,
            "overflow_x": null,
            "overflow_y": null,
            "padding": null,
            "right": null,
            "top": null,
            "visibility": null,
            "width": null
          }
        },
        "58d0aa6cf85d44e988d7daf89c58cceb": {
          "model_module": "@jupyter-widgets/controls",
          "model_name": "ProgressStyleModel",
          "model_module_version": "1.5.0",
          "state": {
            "_model_module": "@jupyter-widgets/controls",
            "_model_module_version": "1.5.0",
            "_model_name": "ProgressStyleModel",
            "_view_count": null,
            "_view_module": "@jupyter-widgets/base",
            "_view_module_version": "1.2.0",
            "_view_name": "StyleView",
            "bar_color": null,
            "description_width": ""
          }
        },
        "820822946291453baa553669ad0b4f85": {
          "model_module": "@jupyter-widgets/base",
          "model_name": "LayoutModel",
          "model_module_version": "1.2.0",
          "state": {
            "_model_module": "@jupyter-widgets/base",
            "_model_module_version": "1.2.0",
            "_model_name": "LayoutModel",
            "_view_count": null,
            "_view_module": "@jupyter-widgets/base",
            "_view_module_version": "1.2.0",
            "_view_name": "LayoutView",
            "align_content": null,
            "align_items": null,
            "align_self": null,
            "border": null,
            "bottom": null,
            "display": null,
            "flex": null,
            "flex_flow": null,
            "grid_area": null,
            "grid_auto_columns": null,
            "grid_auto_flow": null,
            "grid_auto_rows": null,
            "grid_column": null,
            "grid_gap": null,
            "grid_row": null,
            "grid_template_areas": null,
            "grid_template_columns": null,
            "grid_template_rows": null,
            "height": null,
            "justify_content": null,
            "justify_items": null,
            "left": null,
            "margin": null,
            "max_height": null,
            "max_width": null,
            "min_height": null,
            "min_width": null,
            "object_fit": null,
            "object_position": null,
            "order": null,
            "overflow": null,
            "overflow_x": null,
            "overflow_y": null,
            "padding": null,
            "right": null,
            "top": null,
            "visibility": null,
            "width": null
          }
        },
        "264a058e57714dfa9d59996676b36d3a": {
          "model_module": "@jupyter-widgets/controls",
          "model_name": "DescriptionStyleModel",
          "model_module_version": "1.5.0",
          "state": {
            "_model_module": "@jupyter-widgets/controls",
            "_model_module_version": "1.5.0",
            "_model_name": "DescriptionStyleModel",
            "_view_count": null,
            "_view_module": "@jupyter-widgets/base",
            "_view_module_version": "1.2.0",
            "_view_name": "StyleView",
            "description_width": ""
          }
        },
        "50b2542a3c764ce98a49441d6937e80b": {
          "model_module": "@jupyter-widgets/controls",
          "model_name": "HBoxModel",
          "model_module_version": "1.5.0",
          "state": {
            "_dom_classes": [],
            "_model_module": "@jupyter-widgets/controls",
            "_model_module_version": "1.5.0",
            "_model_name": "HBoxModel",
            "_view_count": null,
            "_view_module": "@jupyter-widgets/controls",
            "_view_module_version": "1.5.0",
            "_view_name": "HBoxView",
            "box_style": "",
            "children": [
              "IPY_MODEL_6153ad551bd34d73bcd259379c78dd6e",
              "IPY_MODEL_acb4a7b0e1574c678f87c3bf732ef110",
              "IPY_MODEL_07ae3a2a7db14c138859f4085bf4bbfc"
            ],
            "layout": "IPY_MODEL_f1f27ec6b5b645f68f6cbb6ffe9d1403"
          }
        },
        "6153ad551bd34d73bcd259379c78dd6e": {
          "model_module": "@jupyter-widgets/controls",
          "model_name": "HTMLModel",
          "model_module_version": "1.5.0",
          "state": {
            "_dom_classes": [],
            "_model_module": "@jupyter-widgets/controls",
            "_model_module_version": "1.5.0",
            "_model_name": "HTMLModel",
            "_view_count": null,
            "_view_module": "@jupyter-widgets/controls",
            "_view_module_version": "1.5.0",
            "_view_name": "HTMLView",
            "description": "",
            "description_tooltip": null,
            "layout": "IPY_MODEL_ffc4ec4b36d940449e2c9c9a71acc5e6",
            "placeholder": "​",
            "style": "IPY_MODEL_c2748e29ff8949799e90c4fd687cb75b",
            "value": "Epoch 2: 100%"
          }
        },
        "acb4a7b0e1574c678f87c3bf732ef110": {
          "model_module": "@jupyter-widgets/controls",
          "model_name": "FloatProgressModel",
          "model_module_version": "1.5.0",
          "state": {
            "_dom_classes": [],
            "_model_module": "@jupyter-widgets/controls",
            "_model_module_version": "1.5.0",
            "_model_name": "FloatProgressModel",
            "_view_count": null,
            "_view_module": "@jupyter-widgets/controls",
            "_view_module_version": "1.5.0",
            "_view_name": "ProgressView",
            "bar_style": "success",
            "description": "",
            "description_tooltip": null,
            "layout": "IPY_MODEL_be009ad10d0f4c3399de98ecf4b6089d",
            "max": 45615,
            "min": 0,
            "orientation": "horizontal",
            "style": "IPY_MODEL_057aefcfbaae47d4acc13717e9e8b5a4",
            "value": 45615
          }
        },
        "07ae3a2a7db14c138859f4085bf4bbfc": {
          "model_module": "@jupyter-widgets/controls",
          "model_name": "HTMLModel",
          "model_module_version": "1.5.0",
          "state": {
            "_dom_classes": [],
            "_model_module": "@jupyter-widgets/controls",
            "_model_module_version": "1.5.0",
            "_model_name": "HTMLModel",
            "_view_count": null,
            "_view_module": "@jupyter-widgets/controls",
            "_view_module_version": "1.5.0",
            "_view_name": "HTMLView",
            "description": "",
            "description_tooltip": null,
            "layout": "IPY_MODEL_e72fd836c77148208588c3ae5a757863",
            "placeholder": "​",
            "style": "IPY_MODEL_d084b2928aa34d24892286782dd0d2ea",
            "value": " 45615/45615 [00:12&lt;00:00, 3800.33it/s, train_loss=0.883]"
          }
        },
        "f1f27ec6b5b645f68f6cbb6ffe9d1403": {
          "model_module": "@jupyter-widgets/base",
          "model_name": "LayoutModel",
          "model_module_version": "1.2.0",
          "state": {
            "_model_module": "@jupyter-widgets/base",
            "_model_module_version": "1.2.0",
            "_model_name": "LayoutModel",
            "_view_count": null,
            "_view_module": "@jupyter-widgets/base",
            "_view_module_version": "1.2.0",
            "_view_name": "LayoutView",
            "align_content": null,
            "align_items": null,
            "align_self": null,
            "border": null,
            "bottom": null,
            "display": null,
            "flex": null,
            "flex_flow": null,
            "grid_area": null,
            "grid_auto_columns": null,
            "grid_auto_flow": null,
            "grid_auto_rows": null,
            "grid_column": null,
            "grid_gap": null,
            "grid_row": null,
            "grid_template_areas": null,
            "grid_template_columns": null,
            "grid_template_rows": null,
            "height": null,
            "justify_content": null,
            "justify_items": null,
            "left": null,
            "margin": null,
            "max_height": null,
            "max_width": null,
            "min_height": null,
            "min_width": null,
            "object_fit": null,
            "object_position": null,
            "order": null,
            "overflow": null,
            "overflow_x": null,
            "overflow_y": null,
            "padding": null,
            "right": null,
            "top": null,
            "visibility": null,
            "width": null
          }
        },
        "ffc4ec4b36d940449e2c9c9a71acc5e6": {
          "model_module": "@jupyter-widgets/base",
          "model_name": "LayoutModel",
          "model_module_version": "1.2.0",
          "state": {
            "_model_module": "@jupyter-widgets/base",
            "_model_module_version": "1.2.0",
            "_model_name": "LayoutModel",
            "_view_count": null,
            "_view_module": "@jupyter-widgets/base",
            "_view_module_version": "1.2.0",
            "_view_name": "LayoutView",
            "align_content": null,
            "align_items": null,
            "align_self": null,
            "border": null,
            "bottom": null,
            "display": null,
            "flex": null,
            "flex_flow": null,
            "grid_area": null,
            "grid_auto_columns": null,
            "grid_auto_flow": null,
            "grid_auto_rows": null,
            "grid_column": null,
            "grid_gap": null,
            "grid_row": null,
            "grid_template_areas": null,
            "grid_template_columns": null,
            "grid_template_rows": null,
            "height": null,
            "justify_content": null,
            "justify_items": null,
            "left": null,
            "margin": null,
            "max_height": null,
            "max_width": null,
            "min_height": null,
            "min_width": null,
            "object_fit": null,
            "object_position": null,
            "order": null,
            "overflow": null,
            "overflow_x": null,
            "overflow_y": null,
            "padding": null,
            "right": null,
            "top": null,
            "visibility": null,
            "width": null
          }
        },
        "c2748e29ff8949799e90c4fd687cb75b": {
          "model_module": "@jupyter-widgets/controls",
          "model_name": "DescriptionStyleModel",
          "model_module_version": "1.5.0",
          "state": {
            "_model_module": "@jupyter-widgets/controls",
            "_model_module_version": "1.5.0",
            "_model_name": "DescriptionStyleModel",
            "_view_count": null,
            "_view_module": "@jupyter-widgets/base",
            "_view_module_version": "1.2.0",
            "_view_name": "StyleView",
            "description_width": ""
          }
        },
        "be009ad10d0f4c3399de98ecf4b6089d": {
          "model_module": "@jupyter-widgets/base",
          "model_name": "LayoutModel",
          "model_module_version": "1.2.0",
          "state": {
            "_model_module": "@jupyter-widgets/base",
            "_model_module_version": "1.2.0",
            "_model_name": "LayoutModel",
            "_view_count": null,
            "_view_module": "@jupyter-widgets/base",
            "_view_module_version": "1.2.0",
            "_view_name": "LayoutView",
            "align_content": null,
            "align_items": null,
            "align_self": null,
            "border": null,
            "bottom": null,
            "display": null,
            "flex": null,
            "flex_flow": null,
            "grid_area": null,
            "grid_auto_columns": null,
            "grid_auto_flow": null,
            "grid_auto_rows": null,
            "grid_column": null,
            "grid_gap": null,
            "grid_row": null,
            "grid_template_areas": null,
            "grid_template_columns": null,
            "grid_template_rows": null,
            "height": null,
            "justify_content": null,
            "justify_items": null,
            "left": null,
            "margin": null,
            "max_height": null,
            "max_width": null,
            "min_height": null,
            "min_width": null,
            "object_fit": null,
            "object_position": null,
            "order": null,
            "overflow": null,
            "overflow_x": null,
            "overflow_y": null,
            "padding": null,
            "right": null,
            "top": null,
            "visibility": null,
            "width": null
          }
        },
        "057aefcfbaae47d4acc13717e9e8b5a4": {
          "model_module": "@jupyter-widgets/controls",
          "model_name": "ProgressStyleModel",
          "model_module_version": "1.5.0",
          "state": {
            "_model_module": "@jupyter-widgets/controls",
            "_model_module_version": "1.5.0",
            "_model_name": "ProgressStyleModel",
            "_view_count": null,
            "_view_module": "@jupyter-widgets/base",
            "_view_module_version": "1.2.0",
            "_view_name": "StyleView",
            "bar_color": null,
            "description_width": ""
          }
        },
        "e72fd836c77148208588c3ae5a757863": {
          "model_module": "@jupyter-widgets/base",
          "model_name": "LayoutModel",
          "model_module_version": "1.2.0",
          "state": {
            "_model_module": "@jupyter-widgets/base",
            "_model_module_version": "1.2.0",
            "_model_name": "LayoutModel",
            "_view_count": null,
            "_view_module": "@jupyter-widgets/base",
            "_view_module_version": "1.2.0",
            "_view_name": "LayoutView",
            "align_content": null,
            "align_items": null,
            "align_self": null,
            "border": null,
            "bottom": null,
            "display": null,
            "flex": null,
            "flex_flow": null,
            "grid_area": null,
            "grid_auto_columns": null,
            "grid_auto_flow": null,
            "grid_auto_rows": null,
            "grid_column": null,
            "grid_gap": null,
            "grid_row": null,
            "grid_template_areas": null,
            "grid_template_columns": null,
            "grid_template_rows": null,
            "height": null,
            "justify_content": null,
            "justify_items": null,
            "left": null,
            "margin": null,
            "max_height": null,
            "max_width": null,
            "min_height": null,
            "min_width": null,
            "object_fit": null,
            "object_position": null,
            "order": null,
            "overflow": null,
            "overflow_x": null,
            "overflow_y": null,
            "padding": null,
            "right": null,
            "top": null,
            "visibility": null,
            "width": null
          }
        },
        "d084b2928aa34d24892286782dd0d2ea": {
          "model_module": "@jupyter-widgets/controls",
          "model_name": "DescriptionStyleModel",
          "model_module_version": "1.5.0",
          "state": {
            "_model_module": "@jupyter-widgets/controls",
            "_model_module_version": "1.5.0",
            "_model_name": "DescriptionStyleModel",
            "_view_count": null,
            "_view_module": "@jupyter-widgets/base",
            "_view_module_version": "1.2.0",
            "_view_name": "StyleView",
            "description_width": ""
          }
        },
        "47306e13337f4663a7032f34041b1290": {
          "model_module": "@jupyter-widgets/controls",
          "model_name": "HBoxModel",
          "model_module_version": "1.5.0",
          "state": {
            "_dom_classes": [],
            "_model_module": "@jupyter-widgets/controls",
            "_model_module_version": "1.5.0",
            "_model_name": "HBoxModel",
            "_view_count": null,
            "_view_module": "@jupyter-widgets/controls",
            "_view_module_version": "1.5.0",
            "_view_name": "HBoxView",
            "box_style": "",
            "children": [
              "IPY_MODEL_3796e1d4f52a49a1bf282da26f0dedbb",
              "IPY_MODEL_bb39057685794ede8430b9b6d17a2f88",
              "IPY_MODEL_a33225ec5983471d8bbd8b60480f3c9f"
            ],
            "layout": "IPY_MODEL_28450c81ddcf42b2b077f5adc82d35a2"
          }
        },
        "3796e1d4f52a49a1bf282da26f0dedbb": {
          "model_module": "@jupyter-widgets/controls",
          "model_name": "HTMLModel",
          "model_module_version": "1.5.0",
          "state": {
            "_dom_classes": [],
            "_model_module": "@jupyter-widgets/controls",
            "_model_module_version": "1.5.0",
            "_model_name": "HTMLModel",
            "_view_count": null,
            "_view_module": "@jupyter-widgets/controls",
            "_view_module_version": "1.5.0",
            "_view_name": "HTMLView",
            "description": "",
            "description_tooltip": null,
            "layout": "IPY_MODEL_49e79ea36be64ea0a59b8e049a4a8a47",
            "placeholder": "​",
            "style": "IPY_MODEL_9f7fb740e4ec4c3e89bdd55e4ef45980",
            "value": "Epoch 3: 100%"
          }
        },
        "bb39057685794ede8430b9b6d17a2f88": {
          "model_module": "@jupyter-widgets/controls",
          "model_name": "FloatProgressModel",
          "model_module_version": "1.5.0",
          "state": {
            "_dom_classes": [],
            "_model_module": "@jupyter-widgets/controls",
            "_model_module_version": "1.5.0",
            "_model_name": "FloatProgressModel",
            "_view_count": null,
            "_view_module": "@jupyter-widgets/controls",
            "_view_module_version": "1.5.0",
            "_view_name": "ProgressView",
            "bar_style": "success",
            "description": "",
            "description_tooltip": null,
            "layout": "IPY_MODEL_c25ff062726b4319b1e1ab2ead91f91e",
            "max": 45615,
            "min": 0,
            "orientation": "horizontal",
            "style": "IPY_MODEL_45cb9fc8b4aa4a1d9b62606ab81a6bc2",
            "value": 45615
          }
        },
        "a33225ec5983471d8bbd8b60480f3c9f": {
          "model_module": "@jupyter-widgets/controls",
          "model_name": "HTMLModel",
          "model_module_version": "1.5.0",
          "state": {
            "_dom_classes": [],
            "_model_module": "@jupyter-widgets/controls",
            "_model_module_version": "1.5.0",
            "_model_name": "HTMLModel",
            "_view_count": null,
            "_view_module": "@jupyter-widgets/controls",
            "_view_module_version": "1.5.0",
            "_view_name": "HTMLView",
            "description": "",
            "description_tooltip": null,
            "layout": "IPY_MODEL_6d32f284edbf411b836ea341f0ed505d",
            "placeholder": "​",
            "style": "IPY_MODEL_864880cc366a44eb91b40f9984b8d5b6",
            "value": " 45615/45615 [00:12&lt;00:00, 3576.73it/s, train_loss=0.845]"
          }
        },
        "28450c81ddcf42b2b077f5adc82d35a2": {
          "model_module": "@jupyter-widgets/base",
          "model_name": "LayoutModel",
          "model_module_version": "1.2.0",
          "state": {
            "_model_module": "@jupyter-widgets/base",
            "_model_module_version": "1.2.0",
            "_model_name": "LayoutModel",
            "_view_count": null,
            "_view_module": "@jupyter-widgets/base",
            "_view_module_version": "1.2.0",
            "_view_name": "LayoutView",
            "align_content": null,
            "align_items": null,
            "align_self": null,
            "border": null,
            "bottom": null,
            "display": null,
            "flex": null,
            "flex_flow": null,
            "grid_area": null,
            "grid_auto_columns": null,
            "grid_auto_flow": null,
            "grid_auto_rows": null,
            "grid_column": null,
            "grid_gap": null,
            "grid_row": null,
            "grid_template_areas": null,
            "grid_template_columns": null,
            "grid_template_rows": null,
            "height": null,
            "justify_content": null,
            "justify_items": null,
            "left": null,
            "margin": null,
            "max_height": null,
            "max_width": null,
            "min_height": null,
            "min_width": null,
            "object_fit": null,
            "object_position": null,
            "order": null,
            "overflow": null,
            "overflow_x": null,
            "overflow_y": null,
            "padding": null,
            "right": null,
            "top": null,
            "visibility": null,
            "width": null
          }
        },
        "49e79ea36be64ea0a59b8e049a4a8a47": {
          "model_module": "@jupyter-widgets/base",
          "model_name": "LayoutModel",
          "model_module_version": "1.2.0",
          "state": {
            "_model_module": "@jupyter-widgets/base",
            "_model_module_version": "1.2.0",
            "_model_name": "LayoutModel",
            "_view_count": null,
            "_view_module": "@jupyter-widgets/base",
            "_view_module_version": "1.2.0",
            "_view_name": "LayoutView",
            "align_content": null,
            "align_items": null,
            "align_self": null,
            "border": null,
            "bottom": null,
            "display": null,
            "flex": null,
            "flex_flow": null,
            "grid_area": null,
            "grid_auto_columns": null,
            "grid_auto_flow": null,
            "grid_auto_rows": null,
            "grid_column": null,
            "grid_gap": null,
            "grid_row": null,
            "grid_template_areas": null,
            "grid_template_columns": null,
            "grid_template_rows": null,
            "height": null,
            "justify_content": null,
            "justify_items": null,
            "left": null,
            "margin": null,
            "max_height": null,
            "max_width": null,
            "min_height": null,
            "min_width": null,
            "object_fit": null,
            "object_position": null,
            "order": null,
            "overflow": null,
            "overflow_x": null,
            "overflow_y": null,
            "padding": null,
            "right": null,
            "top": null,
            "visibility": null,
            "width": null
          }
        },
        "9f7fb740e4ec4c3e89bdd55e4ef45980": {
          "model_module": "@jupyter-widgets/controls",
          "model_name": "DescriptionStyleModel",
          "model_module_version": "1.5.0",
          "state": {
            "_model_module": "@jupyter-widgets/controls",
            "_model_module_version": "1.5.0",
            "_model_name": "DescriptionStyleModel",
            "_view_count": null,
            "_view_module": "@jupyter-widgets/base",
            "_view_module_version": "1.2.0",
            "_view_name": "StyleView",
            "description_width": ""
          }
        },
        "c25ff062726b4319b1e1ab2ead91f91e": {
          "model_module": "@jupyter-widgets/base",
          "model_name": "LayoutModel",
          "model_module_version": "1.2.0",
          "state": {
            "_model_module": "@jupyter-widgets/base",
            "_model_module_version": "1.2.0",
            "_model_name": "LayoutModel",
            "_view_count": null,
            "_view_module": "@jupyter-widgets/base",
            "_view_module_version": "1.2.0",
            "_view_name": "LayoutView",
            "align_content": null,
            "align_items": null,
            "align_self": null,
            "border": null,
            "bottom": null,
            "display": null,
            "flex": null,
            "flex_flow": null,
            "grid_area": null,
            "grid_auto_columns": null,
            "grid_auto_flow": null,
            "grid_auto_rows": null,
            "grid_column": null,
            "grid_gap": null,
            "grid_row": null,
            "grid_template_areas": null,
            "grid_template_columns": null,
            "grid_template_rows": null,
            "height": null,
            "justify_content": null,
            "justify_items": null,
            "left": null,
            "margin": null,
            "max_height": null,
            "max_width": null,
            "min_height": null,
            "min_width": null,
            "object_fit": null,
            "object_position": null,
            "order": null,
            "overflow": null,
            "overflow_x": null,
            "overflow_y": null,
            "padding": null,
            "right": null,
            "top": null,
            "visibility": null,
            "width": null
          }
        },
        "45cb9fc8b4aa4a1d9b62606ab81a6bc2": {
          "model_module": "@jupyter-widgets/controls",
          "model_name": "ProgressStyleModel",
          "model_module_version": "1.5.0",
          "state": {
            "_model_module": "@jupyter-widgets/controls",
            "_model_module_version": "1.5.0",
            "_model_name": "ProgressStyleModel",
            "_view_count": null,
            "_view_module": "@jupyter-widgets/base",
            "_view_module_version": "1.2.0",
            "_view_name": "StyleView",
            "bar_color": null,
            "description_width": ""
          }
        },
        "6d32f284edbf411b836ea341f0ed505d": {
          "model_module": "@jupyter-widgets/base",
          "model_name": "LayoutModel",
          "model_module_version": "1.2.0",
          "state": {
            "_model_module": "@jupyter-widgets/base",
            "_model_module_version": "1.2.0",
            "_model_name": "LayoutModel",
            "_view_count": null,
            "_view_module": "@jupyter-widgets/base",
            "_view_module_version": "1.2.0",
            "_view_name": "LayoutView",
            "align_content": null,
            "align_items": null,
            "align_self": null,
            "border": null,
            "bottom": null,
            "display": null,
            "flex": null,
            "flex_flow": null,
            "grid_area": null,
            "grid_auto_columns": null,
            "grid_auto_flow": null,
            "grid_auto_rows": null,
            "grid_column": null,
            "grid_gap": null,
            "grid_row": null,
            "grid_template_areas": null,
            "grid_template_columns": null,
            "grid_template_rows": null,
            "height": null,
            "justify_content": null,
            "justify_items": null,
            "left": null,
            "margin": null,
            "max_height": null,
            "max_width": null,
            "min_height": null,
            "min_width": null,
            "object_fit": null,
            "object_position": null,
            "order": null,
            "overflow": null,
            "overflow_x": null,
            "overflow_y": null,
            "padding": null,
            "right": null,
            "top": null,
            "visibility": null,
            "width": null
          }
        },
        "864880cc366a44eb91b40f9984b8d5b6": {
          "model_module": "@jupyter-widgets/controls",
          "model_name": "DescriptionStyleModel",
          "model_module_version": "1.5.0",
          "state": {
            "_model_module": "@jupyter-widgets/controls",
            "_model_module_version": "1.5.0",
            "_model_name": "DescriptionStyleModel",
            "_view_count": null,
            "_view_module": "@jupyter-widgets/base",
            "_view_module_version": "1.2.0",
            "_view_name": "StyleView",
            "description_width": ""
          }
        }
      }
    },
    "accelerator": "GPU"
  },
  "nbformat": 4,
  "nbformat_minor": 5
}